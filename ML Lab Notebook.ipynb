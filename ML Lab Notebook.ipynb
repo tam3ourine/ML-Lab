{
 "cells": [
  {
   "cell_type": "markdown",
   "id": "cd25cbb0",
   "metadata": {},
   "source": [
    "## Part 0. Load Data and Inspect"
   ]
  },
  {
   "cell_type": "code",
   "execution_count": 1,
   "id": "27cffd0a",
   "metadata": {},
   "outputs": [],
   "source": [
    "import matplotlib.pyplot as plt\n",
    "%matplotlib inline\n",
    "import pandas as pd\n",
    "import numpy as np\n",
    "import seaborn as sns"
   ]
  },
  {
   "cell_type": "code",
   "execution_count": 32,
   "id": "7bd1524b",
   "metadata": {},
   "outputs": [],
   "source": [
    "orders = pd.read_csv('data/Orders.csv')"
   ]
  },
  {
   "cell_type": "code",
   "execution_count": 3,
   "id": "339667cc",
   "metadata": {},
   "outputs": [],
   "source": [
    "returns = pd.read_csv('data/Returns.csv')"
   ]
  },
  {
   "cell_type": "code",
   "execution_count": 4,
   "id": "8e5eb0c0",
   "metadata": {},
   "outputs": [
    {
     "data": {
      "text/plain": [
       "(51290, 24)"
      ]
     },
     "execution_count": 4,
     "metadata": {},
     "output_type": "execute_result"
    }
   ],
   "source": [
    "orders.shape"
   ]
  },
  {
   "cell_type": "code",
   "execution_count": 5,
   "id": "1f8d9130",
   "metadata": {},
   "outputs": [
    {
     "data": {
      "text/html": [
       "<div>\n",
       "<style scoped>\n",
       "    .dataframe tbody tr th:only-of-type {\n",
       "        vertical-align: middle;\n",
       "    }\n",
       "\n",
       "    .dataframe tbody tr th {\n",
       "        vertical-align: top;\n",
       "    }\n",
       "\n",
       "    .dataframe thead th {\n",
       "        text-align: right;\n",
       "    }\n",
       "</style>\n",
       "<table border=\"1\" class=\"dataframe\">\n",
       "  <thead>\n",
       "    <tr style=\"text-align: right;\">\n",
       "      <th></th>\n",
       "      <th>Row.ID</th>\n",
       "      <th>Order.ID</th>\n",
       "      <th>Order.Date</th>\n",
       "      <th>Ship.Date</th>\n",
       "      <th>Ship.Mode</th>\n",
       "      <th>Customer.ID</th>\n",
       "      <th>Customer.Name</th>\n",
       "      <th>Segment</th>\n",
       "      <th>Postal.Code</th>\n",
       "      <th>City</th>\n",
       "      <th>...</th>\n",
       "      <th>Product.ID</th>\n",
       "      <th>Category</th>\n",
       "      <th>Sub.Category</th>\n",
       "      <th>Product.Name</th>\n",
       "      <th>Sales</th>\n",
       "      <th>Quantity</th>\n",
       "      <th>Discount</th>\n",
       "      <th>Profit</th>\n",
       "      <th>Shipping.Cost</th>\n",
       "      <th>Order.Priority</th>\n",
       "    </tr>\n",
       "  </thead>\n",
       "  <tbody>\n",
       "    <tr>\n",
       "      <th>0</th>\n",
       "      <td>40098</td>\n",
       "      <td>CA-2014-AB10015140-41954</td>\n",
       "      <td>11/11/14</td>\n",
       "      <td>11/13/14</td>\n",
       "      <td>First Class</td>\n",
       "      <td>AB-100151402</td>\n",
       "      <td>Aaron Bergman</td>\n",
       "      <td>Consumer</td>\n",
       "      <td>73120.0</td>\n",
       "      <td>Oklahoma City</td>\n",
       "      <td>...</td>\n",
       "      <td>TEC-PH-5816</td>\n",
       "      <td>Technology</td>\n",
       "      <td>Phones</td>\n",
       "      <td>Samsung Convoy 3</td>\n",
       "      <td>$221.98</td>\n",
       "      <td>2</td>\n",
       "      <td>0.0</td>\n",
       "      <td>$62.15</td>\n",
       "      <td>40.77</td>\n",
       "      <td>High</td>\n",
       "    </tr>\n",
       "    <tr>\n",
       "      <th>1</th>\n",
       "      <td>26341</td>\n",
       "      <td>IN-2014-JR162107-41675</td>\n",
       "      <td>2/5/14</td>\n",
       "      <td>2/7/14</td>\n",
       "      <td>Second Class</td>\n",
       "      <td>JR-162107</td>\n",
       "      <td>Justin Ritter</td>\n",
       "      <td>Corporate</td>\n",
       "      <td>NaN</td>\n",
       "      <td>Wollongong</td>\n",
       "      <td>...</td>\n",
       "      <td>FUR-CH-5379</td>\n",
       "      <td>Furniture</td>\n",
       "      <td>Chairs</td>\n",
       "      <td>Novimex Executive Leather Armchair, Black</td>\n",
       "      <td>$3,709.40</td>\n",
       "      <td>9</td>\n",
       "      <td>0.1</td>\n",
       "      <td>-$288.77</td>\n",
       "      <td>923.63</td>\n",
       "      <td>Critical</td>\n",
       "    </tr>\n",
       "    <tr>\n",
       "      <th>2</th>\n",
       "      <td>25330</td>\n",
       "      <td>IN-2014-CR127307-41929</td>\n",
       "      <td>10/17/14</td>\n",
       "      <td>10/18/14</td>\n",
       "      <td>First Class</td>\n",
       "      <td>CR-127307</td>\n",
       "      <td>Craig Reiter</td>\n",
       "      <td>Consumer</td>\n",
       "      <td>NaN</td>\n",
       "      <td>Brisbane</td>\n",
       "      <td>...</td>\n",
       "      <td>TEC-PH-5356</td>\n",
       "      <td>Technology</td>\n",
       "      <td>Phones</td>\n",
       "      <td>Nokia Smart Phone, with Caller ID</td>\n",
       "      <td>$5,175.17</td>\n",
       "      <td>9</td>\n",
       "      <td>0.1</td>\n",
       "      <td>$919.97</td>\n",
       "      <td>915.49</td>\n",
       "      <td>Medium</td>\n",
       "    </tr>\n",
       "    <tr>\n",
       "      <th>3</th>\n",
       "      <td>13524</td>\n",
       "      <td>ES-2014-KM1637548-41667</td>\n",
       "      <td>1/28/14</td>\n",
       "      <td>1/30/14</td>\n",
       "      <td>First Class</td>\n",
       "      <td>KM-1637548</td>\n",
       "      <td>Katherine Murray</td>\n",
       "      <td>Home Office</td>\n",
       "      <td>NaN</td>\n",
       "      <td>Berlin</td>\n",
       "      <td>...</td>\n",
       "      <td>TEC-PH-5267</td>\n",
       "      <td>Technology</td>\n",
       "      <td>Phones</td>\n",
       "      <td>Motorola Smart Phone, Cordless</td>\n",
       "      <td>$2,892.51</td>\n",
       "      <td>5</td>\n",
       "      <td>0.1</td>\n",
       "      <td>-$96.54</td>\n",
       "      <td>910.16</td>\n",
       "      <td>Medium</td>\n",
       "    </tr>\n",
       "    <tr>\n",
       "      <th>4</th>\n",
       "      <td>47221</td>\n",
       "      <td>SG-2014-RH9495111-41948</td>\n",
       "      <td>11/5/14</td>\n",
       "      <td>11/6/14</td>\n",
       "      <td>Same Day</td>\n",
       "      <td>RH-9495111</td>\n",
       "      <td>Rick Hansen</td>\n",
       "      <td>Consumer</td>\n",
       "      <td>NaN</td>\n",
       "      <td>Dakar</td>\n",
       "      <td>...</td>\n",
       "      <td>TEC-CO-6011</td>\n",
       "      <td>Technology</td>\n",
       "      <td>Copiers</td>\n",
       "      <td>Sharp Wireless Fax, High-Speed</td>\n",
       "      <td>$2,832.96</td>\n",
       "      <td>8</td>\n",
       "      <td>0.0</td>\n",
       "      <td>$311.52</td>\n",
       "      <td>903.04</td>\n",
       "      <td>Critical</td>\n",
       "    </tr>\n",
       "  </tbody>\n",
       "</table>\n",
       "<p>5 rows × 24 columns</p>\n",
       "</div>"
      ],
      "text/plain": [
       "   Row.ID                  Order.ID Order.Date Ship.Date     Ship.Mode  \\\n",
       "0   40098  CA-2014-AB10015140-41954   11/11/14  11/13/14   First Class   \n",
       "1   26341    IN-2014-JR162107-41675     2/5/14    2/7/14  Second Class   \n",
       "2   25330    IN-2014-CR127307-41929   10/17/14  10/18/14   First Class   \n",
       "3   13524   ES-2014-KM1637548-41667    1/28/14   1/30/14   First Class   \n",
       "4   47221   SG-2014-RH9495111-41948    11/5/14   11/6/14      Same Day   \n",
       "\n",
       "    Customer.ID     Customer.Name      Segment  Postal.Code           City  \\\n",
       "0  AB-100151402     Aaron Bergman     Consumer      73120.0  Oklahoma City   \n",
       "1     JR-162107     Justin Ritter    Corporate          NaN     Wollongong   \n",
       "2     CR-127307      Craig Reiter     Consumer          NaN       Brisbane   \n",
       "3    KM-1637548  Katherine Murray  Home Office          NaN         Berlin   \n",
       "4    RH-9495111       Rick Hansen     Consumer          NaN          Dakar   \n",
       "\n",
       "   ...   Product.ID    Category Sub.Category  \\\n",
       "0  ...  TEC-PH-5816  Technology       Phones   \n",
       "1  ...  FUR-CH-5379   Furniture       Chairs   \n",
       "2  ...  TEC-PH-5356  Technology       Phones   \n",
       "3  ...  TEC-PH-5267  Technology       Phones   \n",
       "4  ...  TEC-CO-6011  Technology      Copiers   \n",
       "\n",
       "                                Product.Name      Sales Quantity Discount  \\\n",
       "0                           Samsung Convoy 3    $221.98        2      0.0   \n",
       "1  Novimex Executive Leather Armchair, Black  $3,709.40        9      0.1   \n",
       "2          Nokia Smart Phone, with Caller ID  $5,175.17        9      0.1   \n",
       "3             Motorola Smart Phone, Cordless  $2,892.51        5      0.1   \n",
       "4             Sharp Wireless Fax, High-Speed  $2,832.96        8      0.0   \n",
       "\n",
       "     Profit Shipping.Cost  Order.Priority  \n",
       "0    $62.15         40.77            High  \n",
       "1  -$288.77        923.63        Critical  \n",
       "2   $919.97        915.49          Medium  \n",
       "3   -$96.54        910.16          Medium  \n",
       "4   $311.52        903.04        Critical  \n",
       "\n",
       "[5 rows x 24 columns]"
      ]
     },
     "execution_count": 5,
     "metadata": {},
     "output_type": "execute_result"
    }
   ],
   "source": [
    "orders.head()"
   ]
  },
  {
   "cell_type": "code",
   "execution_count": 6,
   "id": "f8dd1563",
   "metadata": {
    "scrolled": true
   },
   "outputs": [
    {
     "data": {
      "text/plain": [
       "Index(['Row.ID', 'Order.ID', 'Order.Date', 'Ship.Date', 'Ship.Mode',\n",
       "       'Customer.ID', 'Customer.Name', 'Segment', 'Postal.Code', 'City',\n",
       "       'State', 'Country', 'Region', 'Market', 'Product.ID', 'Category',\n",
       "       'Sub.Category', 'Product.Name', 'Sales', 'Quantity', 'Discount',\n",
       "       'Profit', 'Shipping.Cost', 'Order.Priority'],\n",
       "      dtype='object')"
      ]
     },
     "execution_count": 6,
     "metadata": {},
     "output_type": "execute_result"
    }
   ],
   "source": [
    "orders.columns"
   ]
  },
  {
   "cell_type": "code",
   "execution_count": 57,
   "id": "bc524c0c",
   "metadata": {},
   "outputs": [
    {
     "data": {
      "text/plain": [
       "Row.ID                0\n",
       "Order.ID              0\n",
       "Order.Date            0\n",
       "Ship.Date             0\n",
       "Ship.Mode             0\n",
       "Customer.ID           0\n",
       "Customer.Name         0\n",
       "Segment               0\n",
       "Postal.Code       41296\n",
       "City                  0\n",
       "State                 0\n",
       "Country               0\n",
       "Region                0\n",
       "Market                0\n",
       "Product.ID            0\n",
       "Category              0\n",
       "Sub.Category          0\n",
       "Product.Name          0\n",
       "Sales                 0\n",
       "Quantity              0\n",
       "Discount              0\n",
       "Profit                0\n",
       "Shipping.Cost         0\n",
       "Order.Priority        0\n",
       "dtype: int64"
      ]
     },
     "execution_count": 57,
     "metadata": {},
     "output_type": "execute_result"
    }
   ],
   "source": [
    "orders.isnull().sum()\n",
    "\n",
    "#there aren't a lot of missing data, only in postal code"
   ]
  },
  {
   "cell_type": "code",
   "execution_count": 7,
   "id": "38b02115",
   "metadata": {},
   "outputs": [
    {
     "data": {
      "text/plain": [
       "(1079, 3)"
      ]
     },
     "execution_count": 7,
     "metadata": {},
     "output_type": "execute_result"
    }
   ],
   "source": [
    "returns.shape"
   ]
  },
  {
   "cell_type": "code",
   "execution_count": 8,
   "id": "ce4af961",
   "metadata": {},
   "outputs": [
    {
     "data": {
      "text/html": [
       "<div>\n",
       "<style scoped>\n",
       "    .dataframe tbody tr th:only-of-type {\n",
       "        vertical-align: middle;\n",
       "    }\n",
       "\n",
       "    .dataframe tbody tr th {\n",
       "        vertical-align: top;\n",
       "    }\n",
       "\n",
       "    .dataframe thead th {\n",
       "        text-align: right;\n",
       "    }\n",
       "</style>\n",
       "<table border=\"1\" class=\"dataframe\">\n",
       "  <thead>\n",
       "    <tr style=\"text-align: right;\">\n",
       "      <th></th>\n",
       "      <th>Returned</th>\n",
       "      <th>Order ID</th>\n",
       "      <th>Region</th>\n",
       "    </tr>\n",
       "  </thead>\n",
       "  <tbody>\n",
       "    <tr>\n",
       "      <th>0</th>\n",
       "      <td>Yes</td>\n",
       "      <td>CA-2012-SA20830140-41210</td>\n",
       "      <td>Central US</td>\n",
       "    </tr>\n",
       "    <tr>\n",
       "      <th>1</th>\n",
       "      <td>Yes</td>\n",
       "      <td>IN-2012-PB19210127-41259</td>\n",
       "      <td>Eastern Asia</td>\n",
       "    </tr>\n",
       "    <tr>\n",
       "      <th>2</th>\n",
       "      <td>Yes</td>\n",
       "      <td>CA-2012-SC20095140-41174</td>\n",
       "      <td>Central US</td>\n",
       "    </tr>\n",
       "    <tr>\n",
       "      <th>3</th>\n",
       "      <td>Yes</td>\n",
       "      <td>IN-2015-JH158207-42140</td>\n",
       "      <td>Oceania</td>\n",
       "    </tr>\n",
       "    <tr>\n",
       "      <th>4</th>\n",
       "      <td>Yes</td>\n",
       "      <td>IN-2014-LC168857-41747</td>\n",
       "      <td>Oceania</td>\n",
       "    </tr>\n",
       "  </tbody>\n",
       "</table>\n",
       "</div>"
      ],
      "text/plain": [
       "  Returned                  Order ID        Region\n",
       "0      Yes  CA-2012-SA20830140-41210    Central US\n",
       "1      Yes  IN-2012-PB19210127-41259  Eastern Asia\n",
       "2      Yes  CA-2012-SC20095140-41174    Central US\n",
       "3      Yes    IN-2015-JH158207-42140       Oceania\n",
       "4      Yes    IN-2014-LC168857-41747       Oceania"
      ]
     },
     "execution_count": 8,
     "metadata": {},
     "output_type": "execute_result"
    }
   ],
   "source": [
    "returns.head()"
   ]
  },
  {
   "cell_type": "code",
   "execution_count": 9,
   "id": "75290f0e",
   "metadata": {
    "scrolled": true
   },
   "outputs": [
    {
     "data": {
      "text/plain": [
       "Index(['Returned', 'Order ID', 'Region'], dtype='object')"
      ]
     },
     "execution_count": 9,
     "metadata": {},
     "output_type": "execute_result"
    }
   ],
   "source": [
    "returns.columns"
   ]
  },
  {
   "cell_type": "code",
   "execution_count": 58,
   "id": "7fe20d0a",
   "metadata": {},
   "outputs": [
    {
     "data": {
      "text/plain": [
       "Returned    0\n",
       "Order ID    0\n",
       "Region      0\n",
       "dtype: int64"
      ]
     },
     "execution_count": 58,
     "metadata": {},
     "output_type": "execute_result"
    }
   ],
   "source": [
    "returns.isnull().sum()"
   ]
  },
  {
   "cell_type": "markdown",
   "id": "79d21c8d",
   "metadata": {},
   "source": [
    "## Part 1. Preprocessing and EDA"
   ]
  },
  {
   "cell_type": "markdown",
   "id": "77f91b79",
   "metadata": {},
   "source": [
    "### Problem 1: Dataset Import & Cleaning\n",
    "Check **\"Profit\"** and **\"Sales\"** in the dataset, convert these two columns to numeric type. "
   ]
  },
  {
   "cell_type": "code",
   "execution_count": 28,
   "id": "f2ac0ce4",
   "metadata": {
    "scrolled": true
   },
   "outputs": [
    {
     "name": "stdout",
     "output_type": "stream",
     "text": [
      "<class 'pandas.core.frame.DataFrame'>\n",
      "RangeIndex: 51290 entries, 0 to 51289\n",
      "Data columns (total 24 columns):\n",
      " #   Column          Non-Null Count  Dtype  \n",
      "---  ------          --------------  -----  \n",
      " 0   Row.ID          51290 non-null  int64  \n",
      " 1   Order.ID        51290 non-null  object \n",
      " 2   Order.Date      51290 non-null  object \n",
      " 3   Ship.Date       51290 non-null  object \n",
      " 4   Ship.Mode       51290 non-null  object \n",
      " 5   Customer.ID     51290 non-null  object \n",
      " 6   Customer.Name   51290 non-null  object \n",
      " 7   Segment         51290 non-null  object \n",
      " 8   Postal.Code     9994 non-null   float64\n",
      " 9   City            51290 non-null  object \n",
      " 10  State           51290 non-null  object \n",
      " 11  Country         51290 non-null  object \n",
      " 12  Region          51290 non-null  object \n",
      " 13  Market          51290 non-null  object \n",
      " 14  Product.ID      51290 non-null  object \n",
      " 15  Category        51290 non-null  object \n",
      " 16  Sub.Category    51290 non-null  object \n",
      " 17  Product.Name    51290 non-null  object \n",
      " 18  Sales           51290 non-null  object \n",
      " 19  Quantity        51290 non-null  int64  \n",
      " 20  Discount        51290 non-null  float64\n",
      " 21  Profit          51290 non-null  object \n",
      " 22  Shipping.Cost   51290 non-null  float64\n",
      " 23  Order.Priority  51290 non-null  object \n",
      "dtypes: float64(3), int64(2), object(19)\n",
      "memory usage: 9.4+ MB\n"
     ]
    }
   ],
   "source": [
    "orders.info()"
   ]
  },
  {
   "cell_type": "code",
   "execution_count": 29,
   "id": "8ec7e7d4",
   "metadata": {},
   "outputs": [
    {
     "data": {
      "text/plain": [
       "0          $62.15\n",
       "1        -$288.77\n",
       "2         $919.97\n",
       "3         -$96.54\n",
       "4         $311.52\n",
       "           ...   \n",
       "51285       $4.50\n",
       "51286       $3.34\n",
       "51287       $2.48\n",
       "51288       $2.40\n",
       "51289       $1.80\n",
       "Name: Profit, Length: 51290, dtype: object"
      ]
     },
     "execution_count": 29,
     "metadata": {},
     "output_type": "execute_result"
    }
   ],
   "source": [
    "orders.Profit"
   ]
  },
  {
   "cell_type": "code",
   "execution_count": 30,
   "id": "e67ab9ed",
   "metadata": {
    "scrolled": true
   },
   "outputs": [
    {
     "data": {
      "text/plain": [
       "0          $221.98\n",
       "1        $3,709.40\n",
       "2        $5,175.17\n",
       "3        $2,892.51\n",
       "4        $2,832.96\n",
       "           ...    \n",
       "51285       $65.10\n",
       "51286       $16.72\n",
       "51287        $8.56\n",
       "51288       $13.44\n",
       "51289       $61.38\n",
       "Name: Sales, Length: 51290, dtype: object"
      ]
     },
     "execution_count": 30,
     "metadata": {},
     "output_type": "execute_result"
    }
   ],
   "source": [
    "orders.Sales"
   ]
  },
  {
   "cell_type": "code",
   "execution_count": 34,
   "id": "945f1d7a",
   "metadata": {},
   "outputs": [
    {
     "name": "stderr",
     "output_type": "stream",
     "text": [
      "/var/folders/ph/5s8lb5y90zq6_3_rmws41nw00000gn/T/ipykernel_80327/2164090479.py:1: FutureWarning: The default value of regex will change from True to False in a future version. In addition, single character regular expressions will *not* be treated as literal strings when regex=True.\n",
      "  orders['Profit'] = orders['Profit'].str.replace('$', '')\n"
     ]
    }
   ],
   "source": [
    "orders['Profit'] = orders['Profit'].str.replace('$', '')\n",
    "orders['Profit'] = orders['Profit'].str.replace(',', '')"
   ]
  },
  {
   "cell_type": "code",
   "execution_count": 35,
   "id": "562a065c",
   "metadata": {
    "scrolled": false
   },
   "outputs": [
    {
     "data": {
      "text/plain": [
       "0          62.15\n",
       "1        -288.77\n",
       "2         919.97\n",
       "3         -96.54\n",
       "4         311.52\n",
       "          ...   \n",
       "51285       4.50\n",
       "51286       3.34\n",
       "51287       2.48\n",
       "51288       2.40\n",
       "51289       1.80\n",
       "Name: Profit, Length: 51290, dtype: object"
      ]
     },
     "execution_count": 35,
     "metadata": {},
     "output_type": "execute_result"
    }
   ],
   "source": [
    "orders['Profit']"
   ]
  },
  {
   "cell_type": "code",
   "execution_count": 53,
   "id": "6e465aa7",
   "metadata": {
    "scrolled": true
   },
   "outputs": [],
   "source": [
    "orders['Profit'] = pd.to_numeric(orders['Profit'], errors='coerce')"
   ]
  },
  {
   "cell_type": "code",
   "execution_count": 37,
   "id": "fe94d5e2",
   "metadata": {},
   "outputs": [
    {
     "name": "stderr",
     "output_type": "stream",
     "text": [
      "/var/folders/ph/5s8lb5y90zq6_3_rmws41nw00000gn/T/ipykernel_80327/984537385.py:1: FutureWarning: The default value of regex will change from True to False in a future version. In addition, single character regular expressions will *not* be treated as literal strings when regex=True.\n",
      "  orders['Sales'] = orders['Sales'].str.replace('$', '')\n"
     ]
    }
   ],
   "source": [
    "orders['Sales'] = orders['Sales'].str.replace('$', '')\n",
    "orders['Sales'] = orders['Sales'].str.replace(',', '')"
   ]
  },
  {
   "cell_type": "code",
   "execution_count": 38,
   "id": "403912b9",
   "metadata": {},
   "outputs": [
    {
     "data": {
      "text/plain": [
       "0         221.98\n",
       "1        3709.40\n",
       "2        5175.17\n",
       "3        2892.51\n",
       "4        2832.96\n",
       "          ...   \n",
       "51285      65.10\n",
       "51286      16.72\n",
       "51287       8.56\n",
       "51288      13.44\n",
       "51289      61.38\n",
       "Name: Sales, Length: 51290, dtype: object"
      ]
     },
     "execution_count": 38,
     "metadata": {},
     "output_type": "execute_result"
    }
   ],
   "source": [
    "orders['Sales']"
   ]
  },
  {
   "cell_type": "code",
   "execution_count": 54,
   "id": "9ddbfafe",
   "metadata": {
    "scrolled": true
   },
   "outputs": [],
   "source": [
    "orders['Sales'] = pd.to_numeric(orders['Sales'], errors='coerce')"
   ]
  },
  {
   "cell_type": "code",
   "execution_count": 55,
   "id": "79d3624b",
   "metadata": {
    "scrolled": true
   },
   "outputs": [
    {
     "name": "stdout",
     "output_type": "stream",
     "text": [
      "<class 'pandas.core.frame.DataFrame'>\n",
      "RangeIndex: 51290 entries, 0 to 51289\n",
      "Data columns (total 24 columns):\n",
      " #   Column          Non-Null Count  Dtype  \n",
      "---  ------          --------------  -----  \n",
      " 0   Row.ID          51290 non-null  int64  \n",
      " 1   Order.ID        51290 non-null  object \n",
      " 2   Order.Date      51290 non-null  object \n",
      " 3   Ship.Date       51290 non-null  object \n",
      " 4   Ship.Mode       51290 non-null  object \n",
      " 5   Customer.ID     51290 non-null  object \n",
      " 6   Customer.Name   51290 non-null  object \n",
      " 7   Segment         51290 non-null  object \n",
      " 8   Postal.Code     9994 non-null   float64\n",
      " 9   City            51290 non-null  object \n",
      " 10  State           51290 non-null  object \n",
      " 11  Country         51290 non-null  object \n",
      " 12  Region          51290 non-null  object \n",
      " 13  Market          51290 non-null  object \n",
      " 14  Product.ID      51290 non-null  object \n",
      " 15  Category        51290 non-null  object \n",
      " 16  Sub.Category    51290 non-null  object \n",
      " 17  Product.Name    51290 non-null  object \n",
      " 18  Sales           51290 non-null  float64\n",
      " 19  Quantity        51290 non-null  int64  \n",
      " 20  Discount        51290 non-null  float64\n",
      " 21  Profit          51290 non-null  float64\n",
      " 22  Shipping.Cost   51290 non-null  float64\n",
      " 23  Order.Priority  51290 non-null  object \n",
      "dtypes: float64(5), int64(2), object(17)\n",
      "memory usage: 9.4+ MB\n"
     ]
    }
   ],
   "source": [
    "orders.info()"
   ]
  },
  {
   "cell_type": "markdown",
   "id": "2dbd3b51",
   "metadata": {},
   "source": [
    "### Problem 2: Inventory Management\n",
    "- Retailers that depend on seasonal shoppers have a particularly challenging job when it comes to inventory management. Your manager is making plans for next year's inventory.\n",
    "- He wants you to answer the following questions:\n",
    "    1. Is there any seasonal trend of inventory in the company?\n",
    "    2. Is the seasonal trend the same for different categories?\n",
    "\n",
    "- ***Hint:*** For each order, it has an attribute called `Quantity` that indicates the number of product in the order. If an order contains more than one product, there will be multiple observations of the same order.\n"
   ]
  },
  {
   "cell_type": "code",
   "execution_count": 62,
   "id": "c4fd5a9d",
   "metadata": {
    "scrolled": true
   },
   "outputs": [
    {
     "name": "stderr",
     "output_type": "stream",
     "text": [
      "/var/folders/ph/5s8lb5y90zq6_3_rmws41nw00000gn/T/ipykernel_80327/2074181859.py:1: FutureWarning: Treating datetime data as categorical rather than numeric in `.describe` is deprecated and will be removed in a future version of pandas. Specify `datetime_is_numeric=True` to silence this warning and adopt the future behavior now.\n",
      "  orders['Order.Date'].describe()\n"
     ]
    },
    {
     "data": {
      "text/plain": [
       "count                   51290\n",
       "unique                   1430\n",
       "top       2015-06-18 00:00:00\n",
       "freq                      135\n",
       "first     2012-01-01 00:00:00\n",
       "last      2015-12-31 00:00:00\n",
       "Name: Order.Date, dtype: object"
      ]
     },
     "execution_count": 62,
     "metadata": {},
     "output_type": "execute_result"
    }
   ],
   "source": [
    "orders['Order.Date'].describe()"
   ]
  },
  {
   "cell_type": "code",
   "execution_count": 59,
   "id": "6504e1a5",
   "metadata": {},
   "outputs": [],
   "source": [
    "orders['Order.Date'] = pd.to_datetime(orders['Order.Date'])"
   ]
  },
  {
   "cell_type": "code",
   "execution_count": 61,
   "id": "bad2d9a0",
   "metadata": {},
   "outputs": [],
   "source": [
    "orders['Month'] = pd.DatetimeIndex(orders['Order.Date']).month\n",
    "orders['Year'] = pd.DatetimeIndex(orders['Order.Date']).year"
   ]
  },
  {
   "cell_type": "code",
   "execution_count": 67,
   "id": "a9e9bfed",
   "metadata": {
    "scrolled": true
   },
   "outputs": [
    {
     "data": {
      "text/plain": [
       "array([11,  2, 10,  1,  6,  4,  3, 12,  7,  9,  8,  5])"
      ]
     },
     "execution_count": 67,
     "metadata": {},
     "output_type": "execute_result"
    }
   ],
   "source": [
    "orders['Month'].unique()"
   ]
  },
  {
   "cell_type": "code",
   "execution_count": 68,
   "id": "f97ef769",
   "metadata": {},
   "outputs": [
    {
     "data": {
      "text/plain": [
       "array([2014, 2012, 2013, 2015])"
      ]
     },
     "execution_count": 68,
     "metadata": {},
     "output_type": "execute_result"
    }
   ],
   "source": [
    "orders['Year'].unique()"
   ]
  },
  {
   "cell_type": "code",
   "execution_count": 71,
   "id": "d28a3eb8",
   "metadata": {},
   "outputs": [],
   "source": [
    "season_quant = orders.groupby(['Year', 'Month'])['Quantity'].sum().unstack('Year')"
   ]
  },
  {
   "cell_type": "code",
   "execution_count": 76,
   "id": "074e2007",
   "metadata": {},
   "outputs": [
    {
     "data": {
      "text/html": [
       "<div>\n",
       "<style scoped>\n",
       "    .dataframe tbody tr th:only-of-type {\n",
       "        vertical-align: middle;\n",
       "    }\n",
       "\n",
       "    .dataframe tbody tr th {\n",
       "        vertical-align: top;\n",
       "    }\n",
       "\n",
       "    .dataframe thead th {\n",
       "        text-align: right;\n",
       "    }\n",
       "</style>\n",
       "<table border=\"1\" class=\"dataframe\">\n",
       "  <thead>\n",
       "    <tr style=\"text-align: right;\">\n",
       "      <th>Year</th>\n",
       "      <th>2012</th>\n",
       "      <th>2013</th>\n",
       "      <th>2014</th>\n",
       "      <th>2015</th>\n",
       "    </tr>\n",
       "    <tr>\n",
       "      <th>Month</th>\n",
       "      <th></th>\n",
       "      <th></th>\n",
       "      <th></th>\n",
       "      <th></th>\n",
       "    </tr>\n",
       "  </thead>\n",
       "  <tbody>\n",
       "    <tr>\n",
       "      <th>1</th>\n",
       "      <td>1463</td>\n",
       "      <td>1874</td>\n",
       "      <td>2413</td>\n",
       "      <td>3122</td>\n",
       "    </tr>\n",
       "    <tr>\n",
       "      <th>2</th>\n",
       "      <td>1401</td>\n",
       "      <td>1444</td>\n",
       "      <td>2102</td>\n",
       "      <td>2482</td>\n",
       "    </tr>\n",
       "    <tr>\n",
       "      <th>3</th>\n",
       "      <td>1745</td>\n",
       "      <td>2237</td>\n",
       "      <td>2686</td>\n",
       "      <td>3722</td>\n",
       "    </tr>\n",
       "    <tr>\n",
       "      <th>4</th>\n",
       "      <td>1934</td>\n",
       "      <td>2250</td>\n",
       "      <td>2688</td>\n",
       "      <td>3594</td>\n",
       "    </tr>\n",
       "    <tr>\n",
       "      <th>5</th>\n",
       "      <td>2167</td>\n",
       "      <td>2921</td>\n",
       "      <td>3808</td>\n",
       "      <td>4300</td>\n",
       "    </tr>\n",
       "    <tr>\n",
       "      <th>6</th>\n",
       "      <td>3002</td>\n",
       "      <td>3671</td>\n",
       "      <td>5327</td>\n",
       "      <td>6009</td>\n",
       "    </tr>\n",
       "    <tr>\n",
       "      <th>7</th>\n",
       "      <td>1836</td>\n",
       "      <td>2321</td>\n",
       "      <td>3252</td>\n",
       "      <td>3637</td>\n",
       "    </tr>\n",
       "    <tr>\n",
       "      <th>8</th>\n",
       "      <td>3020</td>\n",
       "      <td>3818</td>\n",
       "      <td>4934</td>\n",
       "      <td>5824</td>\n",
       "    </tr>\n",
       "    <tr>\n",
       "      <th>9</th>\n",
       "      <td>3644</td>\n",
       "      <td>4205</td>\n",
       "      <td>5793</td>\n",
       "      <td>6837</td>\n",
       "    </tr>\n",
       "    <tr>\n",
       "      <th>10</th>\n",
       "      <td>2981</td>\n",
       "      <td>3563</td>\n",
       "      <td>3883</td>\n",
       "      <td>5876</td>\n",
       "    </tr>\n",
       "    <tr>\n",
       "      <th>11</th>\n",
       "      <td>3924</td>\n",
       "      <td>5193</td>\n",
       "      <td>5556</td>\n",
       "      <td>7706</td>\n",
       "    </tr>\n",
       "    <tr>\n",
       "      <th>12</th>\n",
       "      <td>4326</td>\n",
       "      <td>4614</td>\n",
       "      <td>5694</td>\n",
       "      <td>7513</td>\n",
       "    </tr>\n",
       "  </tbody>\n",
       "</table>\n",
       "</div>"
      ],
      "text/plain": [
       "Year   2012  2013  2014  2015\n",
       "Month                        \n",
       "1      1463  1874  2413  3122\n",
       "2      1401  1444  2102  2482\n",
       "3      1745  2237  2686  3722\n",
       "4      1934  2250  2688  3594\n",
       "5      2167  2921  3808  4300\n",
       "6      3002  3671  5327  6009\n",
       "7      1836  2321  3252  3637\n",
       "8      3020  3818  4934  5824\n",
       "9      3644  4205  5793  6837\n",
       "10     2981  3563  3883  5876\n",
       "11     3924  5193  5556  7706\n",
       "12     4326  4614  5694  7513"
      ]
     },
     "execution_count": 76,
     "metadata": {},
     "output_type": "execute_result"
    }
   ],
   "source": [
    "season_quant"
   ]
  },
  {
   "cell_type": "code",
   "execution_count": 82,
   "id": "9b0efb4a",
   "metadata": {},
   "outputs": [],
   "source": [
    "season_sales = orders.groupby(['Year', 'Month'])['Sales'].sum().unstack('Year')"
   ]
  },
  {
   "cell_type": "code",
   "execution_count": 83,
   "id": "27cf2ac6",
   "metadata": {},
   "outputs": [
    {
     "data": {
      "text/html": [
       "<div>\n",
       "<style scoped>\n",
       "    .dataframe tbody tr th:only-of-type {\n",
       "        vertical-align: middle;\n",
       "    }\n",
       "\n",
       "    .dataframe tbody tr th {\n",
       "        vertical-align: top;\n",
       "    }\n",
       "\n",
       "    .dataframe thead th {\n",
       "        text-align: right;\n",
       "    }\n",
       "</style>\n",
       "<table border=\"1\" class=\"dataframe\">\n",
       "  <thead>\n",
       "    <tr style=\"text-align: right;\">\n",
       "      <th>Year</th>\n",
       "      <th>2012</th>\n",
       "      <th>2013</th>\n",
       "      <th>2014</th>\n",
       "      <th>2015</th>\n",
       "    </tr>\n",
       "    <tr>\n",
       "      <th>Month</th>\n",
       "      <th></th>\n",
       "      <th></th>\n",
       "      <th></th>\n",
       "      <th></th>\n",
       "    </tr>\n",
       "  </thead>\n",
       "  <tbody>\n",
       "    <tr>\n",
       "      <th>1</th>\n",
       "      <td>98898.53</td>\n",
       "      <td>137436.03</td>\n",
       "      <td>199186.09</td>\n",
       "      <td>241268.65</td>\n",
       "    </tr>\n",
       "    <tr>\n",
       "      <th>2</th>\n",
       "      <td>103718.01</td>\n",
       "      <td>98854.97</td>\n",
       "      <td>167239.77</td>\n",
       "      <td>184837.46</td>\n",
       "    </tr>\n",
       "    <tr>\n",
       "      <th>3</th>\n",
       "      <td>135746.52</td>\n",
       "      <td>163076.85</td>\n",
       "      <td>198594.14</td>\n",
       "      <td>263100.83</td>\n",
       "    </tr>\n",
       "    <tr>\n",
       "      <th>4</th>\n",
       "      <td>114332.99</td>\n",
       "      <td>161052.42</td>\n",
       "      <td>177821.44</td>\n",
       "      <td>242772.01</td>\n",
       "    </tr>\n",
       "    <tr>\n",
       "      <th>5</th>\n",
       "      <td>158228.35</td>\n",
       "      <td>208365.13</td>\n",
       "      <td>260498.63</td>\n",
       "      <td>288401.13</td>\n",
       "    </tr>\n",
       "    <tr>\n",
       "      <th>6</th>\n",
       "      <td>207571.58</td>\n",
       "      <td>256175.76</td>\n",
       "      <td>396519.76</td>\n",
       "      <td>401814.19</td>\n",
       "    </tr>\n",
       "    <tr>\n",
       "      <th>7</th>\n",
       "      <td>118434.88</td>\n",
       "      <td>145236.86</td>\n",
       "      <td>229928.92</td>\n",
       "      <td>258705.80</td>\n",
       "    </tr>\n",
       "    <tr>\n",
       "      <th>8</th>\n",
       "      <td>208063.31</td>\n",
       "      <td>303143.12</td>\n",
       "      <td>326488.94</td>\n",
       "      <td>456620.18</td>\n",
       "    </tr>\n",
       "    <tr>\n",
       "      <th>9</th>\n",
       "      <td>284587.84</td>\n",
       "      <td>289389.25</td>\n",
       "      <td>376619.51</td>\n",
       "      <td>481157.41</td>\n",
       "    </tr>\n",
       "    <tr>\n",
       "      <th>10</th>\n",
       "      <td>216114.60</td>\n",
       "      <td>252939.89</td>\n",
       "      <td>293406.77</td>\n",
       "      <td>422766.85</td>\n",
       "    </tr>\n",
       "    <tr>\n",
       "      <th>11</th>\n",
       "      <td>293947.46</td>\n",
       "      <td>323512.56</td>\n",
       "      <td>373989.57</td>\n",
       "      <td>555279.30</td>\n",
       "    </tr>\n",
       "    <tr>\n",
       "      <th>12</th>\n",
       "      <td>319807.57</td>\n",
       "      <td>338257.07</td>\n",
       "      <td>405454.49</td>\n",
       "      <td>503143.86</td>\n",
       "    </tr>\n",
       "  </tbody>\n",
       "</table>\n",
       "</div>"
      ],
      "text/plain": [
       "Year        2012       2013       2014       2015\n",
       "Month                                            \n",
       "1       98898.53  137436.03  199186.09  241268.65\n",
       "2      103718.01   98854.97  167239.77  184837.46\n",
       "3      135746.52  163076.85  198594.14  263100.83\n",
       "4      114332.99  161052.42  177821.44  242772.01\n",
       "5      158228.35  208365.13  260498.63  288401.13\n",
       "6      207571.58  256175.76  396519.76  401814.19\n",
       "7      118434.88  145236.86  229928.92  258705.80\n",
       "8      208063.31  303143.12  326488.94  456620.18\n",
       "9      284587.84  289389.25  376619.51  481157.41\n",
       "10     216114.60  252939.89  293406.77  422766.85\n",
       "11     293947.46  323512.56  373989.57  555279.30\n",
       "12     319807.57  338257.07  405454.49  503143.86"
      ]
     },
     "execution_count": 83,
     "metadata": {},
     "output_type": "execute_result"
    }
   ],
   "source": [
    "season_sales"
   ]
  },
  {
   "cell_type": "code",
   "execution_count": 84,
   "id": "17cb1de0",
   "metadata": {},
   "outputs": [],
   "source": [
    "season_profit = orders.groupby(['Year', 'Month'])['Profit'].sum().unstack('Year')"
   ]
  },
  {
   "cell_type": "code",
   "execution_count": 85,
   "id": "8a4b8ea0",
   "metadata": {
    "scrolled": true
   },
   "outputs": [
    {
     "data": {
      "text/html": [
       "<div>\n",
       "<style scoped>\n",
       "    .dataframe tbody tr th:only-of-type {\n",
       "        vertical-align: middle;\n",
       "    }\n",
       "\n",
       "    .dataframe tbody tr th {\n",
       "        vertical-align: top;\n",
       "    }\n",
       "\n",
       "    .dataframe thead th {\n",
       "        text-align: right;\n",
       "    }\n",
       "</style>\n",
       "<table border=\"1\" class=\"dataframe\">\n",
       "  <thead>\n",
       "    <tr style=\"text-align: right;\">\n",
       "      <th>Year</th>\n",
       "      <th>2012</th>\n",
       "      <th>2013</th>\n",
       "      <th>2014</th>\n",
       "      <th>2015</th>\n",
       "    </tr>\n",
       "    <tr>\n",
       "      <th>Month</th>\n",
       "      <th></th>\n",
       "      <th></th>\n",
       "      <th></th>\n",
       "      <th></th>\n",
       "    </tr>\n",
       "  </thead>\n",
       "  <tbody>\n",
       "    <tr>\n",
       "      <th>1</th>\n",
       "      <td>8321.76</td>\n",
       "      <td>10306.73</td>\n",
       "      <td>26810.58</td>\n",
       "      <td>28001.38</td>\n",
       "    </tr>\n",
       "    <tr>\n",
       "      <th>2</th>\n",
       "      <td>14323.02</td>\n",
       "      <td>15095.00</td>\n",
       "      <td>23762.45</td>\n",
       "      <td>19751.71</td>\n",
       "    </tr>\n",
       "    <tr>\n",
       "      <th>3</th>\n",
       "      <td>13089.59</td>\n",
       "      <td>17992.87</td>\n",
       "      <td>23433.83</td>\n",
       "      <td>37357.16</td>\n",
       "    </tr>\n",
       "    <tr>\n",
       "      <th>4</th>\n",
       "      <td>13211.11</td>\n",
       "      <td>17367.01</td>\n",
       "      <td>19462.13</td>\n",
       "      <td>23782.32</td>\n",
       "    </tr>\n",
       "    <tr>\n",
       "      <th>5</th>\n",
       "      <td>14644.10</td>\n",
       "      <td>29876.75</td>\n",
       "      <td>28495.59</td>\n",
       "      <td>33953.63</td>\n",
       "    </tr>\n",
       "    <tr>\n",
       "      <th>6</th>\n",
       "      <td>20940.49</td>\n",
       "      <td>34407.02</td>\n",
       "      <td>45478.29</td>\n",
       "      <td>43778.55</td>\n",
       "    </tr>\n",
       "    <tr>\n",
       "      <th>7</th>\n",
       "      <td>4040.56</td>\n",
       "      <td>15585.43</td>\n",
       "      <td>28863.70</td>\n",
       "      <td>28035.81</td>\n",
       "    </tr>\n",
       "    <tr>\n",
       "      <th>8</th>\n",
       "      <td>26452.97</td>\n",
       "      <td>43573.92</td>\n",
       "      <td>31023.60</td>\n",
       "      <td>53542.99</td>\n",
       "    </tr>\n",
       "    <tr>\n",
       "      <th>9</th>\n",
       "      <td>35044.54</td>\n",
       "      <td>27776.24</td>\n",
       "      <td>38905.62</td>\n",
       "      <td>67979.54</td>\n",
       "    </tr>\n",
       "    <tr>\n",
       "      <th>10</th>\n",
       "      <td>27597.90</td>\n",
       "      <td>30662.88</td>\n",
       "      <td>42433.27</td>\n",
       "      <td>58209.97</td>\n",
       "    </tr>\n",
       "    <tr>\n",
       "      <th>11</th>\n",
       "      <td>33242.80</td>\n",
       "      <td>31820.74</td>\n",
       "      <td>48063.05</td>\n",
       "      <td>62856.64</td>\n",
       "    </tr>\n",
       "    <tr>\n",
       "      <th>12</th>\n",
       "      <td>38031.51</td>\n",
       "      <td>32950.74</td>\n",
       "      <td>50202.78</td>\n",
       "      <td>46916.40</td>\n",
       "    </tr>\n",
       "  </tbody>\n",
       "</table>\n",
       "</div>"
      ],
      "text/plain": [
       "Year       2012      2013      2014      2015\n",
       "Month                                        \n",
       "1       8321.76  10306.73  26810.58  28001.38\n",
       "2      14323.02  15095.00  23762.45  19751.71\n",
       "3      13089.59  17992.87  23433.83  37357.16\n",
       "4      13211.11  17367.01  19462.13  23782.32\n",
       "5      14644.10  29876.75  28495.59  33953.63\n",
       "6      20940.49  34407.02  45478.29  43778.55\n",
       "7       4040.56  15585.43  28863.70  28035.81\n",
       "8      26452.97  43573.92  31023.60  53542.99\n",
       "9      35044.54  27776.24  38905.62  67979.54\n",
       "10     27597.90  30662.88  42433.27  58209.97\n",
       "11     33242.80  31820.74  48063.05  62856.64\n",
       "12     38031.51  32950.74  50202.78  46916.40"
      ]
     },
     "execution_count": 85,
     "metadata": {},
     "output_type": "execute_result"
    }
   ],
   "source": [
    "season_profit"
   ]
  },
  {
   "cell_type": "code",
   "execution_count": 88,
   "id": "e4356318",
   "metadata": {
    "scrolled": true
   },
   "outputs": [
    {
     "data": {
      "text/plain": [
       "<AxesSubplot:title={'center':'Quantity of Items Sold by Month and Year'}, xlabel='Month'>"
      ]
     },
     "execution_count": 88,
     "metadata": {},
     "output_type": "execute_result"
    },
    {
     "data": {
      "image/png": "[encoded data removed]",
      "text/plain": [
       "<Figure size 432x288 with 1 Axes>"
      ]
     },
     "metadata": {
      "needs_background": "light"
     },
     "output_type": "display_data"
    }
   ],
   "source": [
    "season_quant.plot(\n",
    "    y=season_quant.columns,\n",
    "    title='Quantity of Items Sold by Month and Year'\n",
    ")\n",
    "\n",
    "#overall increases throughout the year, with highs in June and end of the year\n",
    "#also increased each year, with 2012 the least and 2015 the most quantity"
   ]
  },
  {
   "cell_type": "code",
   "execution_count": 89,
   "id": "b1c4b16b",
   "metadata": {},
   "outputs": [
    {
     "data": {
      "text/plain": [
       "<AxesSubplot:title={'center':'Sales by Month and Year'}, xlabel='Month'>"
      ]
     },
     "execution_count": 89,
     "metadata": {},
     "output_type": "execute_result"
    },
    {
     "data": {
      "image/png": "[encoded data removed]",
      "text/plain": [
       "<Figure size 432x288 with 1 Axes>"
      ]
     },
     "metadata": {
      "needs_background": "light"
     },
     "output_type": "display_data"
    }
   ],
   "source": [
    "season_quant.plot(\n",
    "    y=season_sales.columns,\n",
    "    title='Sales by Month and Year'\n",
    ")\n",
    "\n",
    "#similar to quantity"
   ]
  },
  {
   "cell_type": "code",
   "execution_count": 91,
   "id": "74d8169d",
   "metadata": {},
   "outputs": [
    {
     "data": {
      "text/plain": [
       "<AxesSubplot:title={'center':'Profit by Month and Year'}, xlabel='Month'>"
      ]
     },
     "execution_count": 91,
     "metadata": {},
     "output_type": "execute_result"
    },
    {
     "data": {
      "image/png": "[encoded data removed]",
      "text/plain": [
       "<Figure size 432x288 with 1 Axes>"
      ]
     },
     "metadata": {
      "needs_background": "light"
     },
     "output_type": "display_data"
    }
   ],
   "source": [
    "season_quant.plot(\n",
    "    y=season_profit.columns,\n",
    "    title='Profit by Month and Year'\n",
    ")\n",
    "\n",
    "#similar to quantity and sales"
   ]
  },
  {
   "cell_type": "code",
   "execution_count": null,
   "id": "4a0c1b20",
   "metadata": {},
   "outputs": [],
   "source": [
    "Order.groupby(['Order.Month','Category'])['Quantity'].sum().unstack('Category')"
   ]
  },
  {
   "cell_type": "code",
   "execution_count": null,
   "id": "acdbb703",
   "metadata": {},
   "outputs": [],
   "source": [
    "season_quant = orders.groupby(['Year', 'Month'])['Quantity'].sum().unstack('Year')"
   ]
  },
  {
   "cell_type": "code",
   "execution_count": 94,
   "id": "653606c0",
   "metadata": {},
   "outputs": [],
   "source": [
    "seacat_quant = orders.groupby(['Year', 'Month', 'Category'])['Quantity'].sum().unstack('Category')"
   ]
  },
  {
   "cell_type": "code",
   "execution_count": 95,
   "id": "0247398f",
   "metadata": {
    "scrolled": true
   },
   "outputs": [
    {
     "data": {
      "text/html": [
       "<div>\n",
       "<style scoped>\n",
       "    .dataframe tbody tr th:only-of-type {\n",
       "        vertical-align: middle;\n",
       "    }\n",
       "\n",
       "    .dataframe tbody tr th {\n",
       "        vertical-align: top;\n",
       "    }\n",
       "\n",
       "    .dataframe thead th {\n",
       "        text-align: right;\n",
       "    }\n",
       "</style>\n",
       "<table border=\"1\" class=\"dataframe\">\n",
       "  <thead>\n",
       "    <tr style=\"text-align: right;\">\n",
       "      <th></th>\n",
       "      <th>Category</th>\n",
       "      <th>Furniture</th>\n",
       "      <th>Office Supplies</th>\n",
       "      <th>Technology</th>\n",
       "    </tr>\n",
       "    <tr>\n",
       "      <th>Year</th>\n",
       "      <th>Month</th>\n",
       "      <th></th>\n",
       "      <th></th>\n",
       "      <th></th>\n",
       "    </tr>\n",
       "  </thead>\n",
       "  <tbody>\n",
       "    <tr>\n",
       "      <th rowspan=\"12\" valign=\"top\">2012</th>\n",
       "      <th>1</th>\n",
       "      <td>246</td>\n",
       "      <td>997</td>\n",
       "      <td>220</td>\n",
       "    </tr>\n",
       "    <tr>\n",
       "      <th>2</th>\n",
       "      <td>278</td>\n",
       "      <td>800</td>\n",
       "      <td>323</td>\n",
       "    </tr>\n",
       "    <tr>\n",
       "      <th>3</th>\n",
       "      <td>319</td>\n",
       "      <td>1093</td>\n",
       "      <td>333</td>\n",
       "    </tr>\n",
       "    <tr>\n",
       "      <th>4</th>\n",
       "      <td>326</td>\n",
       "      <td>1233</td>\n",
       "      <td>375</td>\n",
       "    </tr>\n",
       "    <tr>\n",
       "      <th>5</th>\n",
       "      <td>409</td>\n",
       "      <td>1268</td>\n",
       "      <td>490</td>\n",
       "    </tr>\n",
       "    <tr>\n",
       "      <th>6</th>\n",
       "      <td>680</td>\n",
       "      <td>1746</td>\n",
       "      <td>576</td>\n",
       "    </tr>\n",
       "    <tr>\n",
       "      <th>7</th>\n",
       "      <td>313</td>\n",
       "      <td>1142</td>\n",
       "      <td>381</td>\n",
       "    </tr>\n",
       "    <tr>\n",
       "      <th>8</th>\n",
       "      <td>569</td>\n",
       "      <td>1822</td>\n",
       "      <td>629</td>\n",
       "    </tr>\n",
       "    <tr>\n",
       "      <th>9</th>\n",
       "      <td>757</td>\n",
       "      <td>2327</td>\n",
       "      <td>560</td>\n",
       "    </tr>\n",
       "    <tr>\n",
       "      <th>10</th>\n",
       "      <td>637</td>\n",
       "      <td>1773</td>\n",
       "      <td>571</td>\n",
       "    </tr>\n",
       "    <tr>\n",
       "      <th>11</th>\n",
       "      <td>799</td>\n",
       "      <td>2341</td>\n",
       "      <td>784</td>\n",
       "    </tr>\n",
       "    <tr>\n",
       "      <th>12</th>\n",
       "      <td>963</td>\n",
       "      <td>2447</td>\n",
       "      <td>916</td>\n",
       "    </tr>\n",
       "    <tr>\n",
       "      <th rowspan=\"12\" valign=\"top\">2013</th>\n",
       "      <th>1</th>\n",
       "      <td>400</td>\n",
       "      <td>1108</td>\n",
       "      <td>366</td>\n",
       "    </tr>\n",
       "    <tr>\n",
       "      <th>2</th>\n",
       "      <td>286</td>\n",
       "      <td>839</td>\n",
       "      <td>319</td>\n",
       "    </tr>\n",
       "    <tr>\n",
       "      <th>3</th>\n",
       "      <td>457</td>\n",
       "      <td>1316</td>\n",
       "      <td>464</td>\n",
       "    </tr>\n",
       "    <tr>\n",
       "      <th>4</th>\n",
       "      <td>422</td>\n",
       "      <td>1298</td>\n",
       "      <td>530</td>\n",
       "    </tr>\n",
       "    <tr>\n",
       "      <th>5</th>\n",
       "      <td>481</td>\n",
       "      <td>1872</td>\n",
       "      <td>568</td>\n",
       "    </tr>\n",
       "    <tr>\n",
       "      <th>6</th>\n",
       "      <td>718</td>\n",
       "      <td>2236</td>\n",
       "      <td>717</td>\n",
       "    </tr>\n",
       "    <tr>\n",
       "      <th>7</th>\n",
       "      <td>466</td>\n",
       "      <td>1402</td>\n",
       "      <td>453</td>\n",
       "    </tr>\n",
       "    <tr>\n",
       "      <th>8</th>\n",
       "      <td>647</td>\n",
       "      <td>2370</td>\n",
       "      <td>801</td>\n",
       "    </tr>\n",
       "    <tr>\n",
       "      <th>9</th>\n",
       "      <td>803</td>\n",
       "      <td>2519</td>\n",
       "      <td>883</td>\n",
       "    </tr>\n",
       "    <tr>\n",
       "      <th>10</th>\n",
       "      <td>657</td>\n",
       "      <td>2114</td>\n",
       "      <td>792</td>\n",
       "    </tr>\n",
       "    <tr>\n",
       "      <th>11</th>\n",
       "      <td>1135</td>\n",
       "      <td>3190</td>\n",
       "      <td>868</td>\n",
       "    </tr>\n",
       "    <tr>\n",
       "      <th>12</th>\n",
       "      <td>794</td>\n",
       "      <td>2884</td>\n",
       "      <td>936</td>\n",
       "    </tr>\n",
       "    <tr>\n",
       "      <th rowspan=\"12\" valign=\"top\">2014</th>\n",
       "      <th>1</th>\n",
       "      <td>544</td>\n",
       "      <td>1452</td>\n",
       "      <td>417</td>\n",
       "    </tr>\n",
       "    <tr>\n",
       "      <th>2</th>\n",
       "      <td>453</td>\n",
       "      <td>1279</td>\n",
       "      <td>370</td>\n",
       "    </tr>\n",
       "    <tr>\n",
       "      <th>3</th>\n",
       "      <td>582</td>\n",
       "      <td>1576</td>\n",
       "      <td>528</td>\n",
       "    </tr>\n",
       "    <tr>\n",
       "      <th>4</th>\n",
       "      <td>529</td>\n",
       "      <td>1652</td>\n",
       "      <td>507</td>\n",
       "    </tr>\n",
       "    <tr>\n",
       "      <th>5</th>\n",
       "      <td>737</td>\n",
       "      <td>2359</td>\n",
       "      <td>712</td>\n",
       "    </tr>\n",
       "    <tr>\n",
       "      <th>6</th>\n",
       "      <td>960</td>\n",
       "      <td>3262</td>\n",
       "      <td>1105</td>\n",
       "    </tr>\n",
       "    <tr>\n",
       "      <th>7</th>\n",
       "      <td>654</td>\n",
       "      <td>1929</td>\n",
       "      <td>669</td>\n",
       "    </tr>\n",
       "    <tr>\n",
       "      <th>8</th>\n",
       "      <td>883</td>\n",
       "      <td>3148</td>\n",
       "      <td>903</td>\n",
       "    </tr>\n",
       "    <tr>\n",
       "      <th>9</th>\n",
       "      <td>1169</td>\n",
       "      <td>3590</td>\n",
       "      <td>1034</td>\n",
       "    </tr>\n",
       "    <tr>\n",
       "      <th>10</th>\n",
       "      <td>866</td>\n",
       "      <td>2214</td>\n",
       "      <td>803</td>\n",
       "    </tr>\n",
       "    <tr>\n",
       "      <th>11</th>\n",
       "      <td>1084</td>\n",
       "      <td>3342</td>\n",
       "      <td>1130</td>\n",
       "    </tr>\n",
       "    <tr>\n",
       "      <th>12</th>\n",
       "      <td>1222</td>\n",
       "      <td>3361</td>\n",
       "      <td>1111</td>\n",
       "    </tr>\n",
       "    <tr>\n",
       "      <th rowspan=\"12\" valign=\"top\">2015</th>\n",
       "      <th>1</th>\n",
       "      <td>560</td>\n",
       "      <td>1923</td>\n",
       "      <td>639</td>\n",
       "    </tr>\n",
       "    <tr>\n",
       "      <th>2</th>\n",
       "      <td>477</td>\n",
       "      <td>1422</td>\n",
       "      <td>583</td>\n",
       "    </tr>\n",
       "    <tr>\n",
       "      <th>3</th>\n",
       "      <td>740</td>\n",
       "      <td>2298</td>\n",
       "      <td>684</td>\n",
       "    </tr>\n",
       "    <tr>\n",
       "      <th>4</th>\n",
       "      <td>728</td>\n",
       "      <td>2208</td>\n",
       "      <td>658</td>\n",
       "    </tr>\n",
       "    <tr>\n",
       "      <th>5</th>\n",
       "      <td>857</td>\n",
       "      <td>2671</td>\n",
       "      <td>772</td>\n",
       "    </tr>\n",
       "    <tr>\n",
       "      <th>6</th>\n",
       "      <td>1076</td>\n",
       "      <td>3768</td>\n",
       "      <td>1165</td>\n",
       "    </tr>\n",
       "    <tr>\n",
       "      <th>7</th>\n",
       "      <td>724</td>\n",
       "      <td>2145</td>\n",
       "      <td>768</td>\n",
       "    </tr>\n",
       "    <tr>\n",
       "      <th>8</th>\n",
       "      <td>960</td>\n",
       "      <td>3679</td>\n",
       "      <td>1185</td>\n",
       "    </tr>\n",
       "    <tr>\n",
       "      <th>9</th>\n",
       "      <td>1382</td>\n",
       "      <td>4136</td>\n",
       "      <td>1319</td>\n",
       "    </tr>\n",
       "    <tr>\n",
       "      <th>10</th>\n",
       "      <td>1163</td>\n",
       "      <td>3484</td>\n",
       "      <td>1229</td>\n",
       "    </tr>\n",
       "    <tr>\n",
       "      <th>11</th>\n",
       "      <td>1453</td>\n",
       "      <td>4656</td>\n",
       "      <td>1597</td>\n",
       "    </tr>\n",
       "    <tr>\n",
       "      <th>12</th>\n",
       "      <td>1527</td>\n",
       "      <td>4553</td>\n",
       "      <td>1433</td>\n",
       "    </tr>\n",
       "  </tbody>\n",
       "</table>\n",
       "</div>"
      ],
      "text/plain": [
       "Category    Furniture  Office Supplies  Technology\n",
       "Year Month                                        \n",
       "2012 1            246              997         220\n",
       "     2            278              800         323\n",
       "     3            319             1093         333\n",
       "     4            326             1233         375\n",
       "     5            409             1268         490\n",
       "     6            680             1746         576\n",
       "     7            313             1142         381\n",
       "     8            569             1822         629\n",
       "     9            757             2327         560\n",
       "     10           637             1773         571\n",
       "     11           799             2341         784\n",
       "     12           963             2447         916\n",
       "2013 1            400             1108         366\n",
       "     2            286              839         319\n",
       "     3            457             1316         464\n",
       "     4            422             1298         530\n",
       "     5            481             1872         568\n",
       "     6            718             2236         717\n",
       "     7            466             1402         453\n",
       "     8            647             2370         801\n",
       "     9            803             2519         883\n",
       "     10           657             2114         792\n",
       "     11          1135             3190         868\n",
       "     12           794             2884         936\n",
       "2014 1            544             1452         417\n",
       "     2            453             1279         370\n",
       "     3            582             1576         528\n",
       "     4            529             1652         507\n",
       "     5            737             2359         712\n",
       "     6            960             3262        1105\n",
       "     7            654             1929         669\n",
       "     8            883             3148         903\n",
       "     9           1169             3590        1034\n",
       "     10           866             2214         803\n",
       "     11          1084             3342        1130\n",
       "     12          1222             3361        1111\n",
       "2015 1            560             1923         639\n",
       "     2            477             1422         583\n",
       "     3            740             2298         684\n",
       "     4            728             2208         658\n",
       "     5            857             2671         772\n",
       "     6           1076             3768        1165\n",
       "     7            724             2145         768\n",
       "     8            960             3679        1185\n",
       "     9           1382             4136        1319\n",
       "     10          1163             3484        1229\n",
       "     11          1453             4656        1597\n",
       "     12          1527             4553        1433"
      ]
     },
     "execution_count": 95,
     "metadata": {},
     "output_type": "execute_result"
    }
   ],
   "source": [
    "seacat_quant"
   ]
  },
  {
   "cell_type": "code",
   "execution_count": 98,
   "id": "5c49ceb1",
   "metadata": {},
   "outputs": [],
   "source": [
    "seacat_sales = orders.groupby(['Year', 'Month', 'Category'])['Sales'].sum().unstack('Category')"
   ]
  },
  {
   "cell_type": "code",
   "execution_count": 99,
   "id": "4a261f17",
   "metadata": {
    "scrolled": true
   },
   "outputs": [
    {
     "data": {
      "text/html": [
       "<div>\n",
       "<style scoped>\n",
       "    .dataframe tbody tr th:only-of-type {\n",
       "        vertical-align: middle;\n",
       "    }\n",
       "\n",
       "    .dataframe tbody tr th {\n",
       "        vertical-align: top;\n",
       "    }\n",
       "\n",
       "    .dataframe thead th {\n",
       "        text-align: right;\n",
       "    }\n",
       "</style>\n",
       "<table border=\"1\" class=\"dataframe\">\n",
       "  <thead>\n",
       "    <tr style=\"text-align: right;\">\n",
       "      <th></th>\n",
       "      <th>Category</th>\n",
       "      <th>Furniture</th>\n",
       "      <th>Office Supplies</th>\n",
       "      <th>Technology</th>\n",
       "    </tr>\n",
       "    <tr>\n",
       "      <th>Year</th>\n",
       "      <th>Month</th>\n",
       "      <th></th>\n",
       "      <th></th>\n",
       "      <th></th>\n",
       "    </tr>\n",
       "  </thead>\n",
       "  <tbody>\n",
       "    <tr>\n",
       "      <th rowspan=\"12\" valign=\"top\">2012</th>\n",
       "      <th>1</th>\n",
       "      <td>34463.74</td>\n",
       "      <td>33526.78</td>\n",
       "      <td>30908.01</td>\n",
       "    </tr>\n",
       "    <tr>\n",
       "      <th>2</th>\n",
       "      <td>35799.40</td>\n",
       "      <td>26135.09</td>\n",
       "      <td>41783.52</td>\n",
       "    </tr>\n",
       "    <tr>\n",
       "      <th>3</th>\n",
       "      <td>40277.32</td>\n",
       "      <td>31578.62</td>\n",
       "      <td>63890.58</td>\n",
       "    </tr>\n",
       "    <tr>\n",
       "      <th>4</th>\n",
       "      <td>30689.56</td>\n",
       "      <td>45562.66</td>\n",
       "      <td>38080.77</td>\n",
       "    </tr>\n",
       "    <tr>\n",
       "      <th>5</th>\n",
       "      <td>49768.69</td>\n",
       "      <td>49731.49</td>\n",
       "      <td>58728.17</td>\n",
       "    </tr>\n",
       "    <tr>\n",
       "      <th>6</th>\n",
       "      <td>76584.64</td>\n",
       "      <td>61792.79</td>\n",
       "      <td>69194.15</td>\n",
       "    </tr>\n",
       "    <tr>\n",
       "      <th>7</th>\n",
       "      <td>31382.98</td>\n",
       "      <td>42806.51</td>\n",
       "      <td>44245.39</td>\n",
       "    </tr>\n",
       "    <tr>\n",
       "      <th>8</th>\n",
       "      <td>68000.39</td>\n",
       "      <td>58389.80</td>\n",
       "      <td>81673.12</td>\n",
       "    </tr>\n",
       "    <tr>\n",
       "      <th>9</th>\n",
       "      <td>93933.71</td>\n",
       "      <td>99986.91</td>\n",
       "      <td>90667.22</td>\n",
       "    </tr>\n",
       "    <tr>\n",
       "      <th>10</th>\n",
       "      <td>79094.27</td>\n",
       "      <td>55700.37</td>\n",
       "      <td>81319.96</td>\n",
       "    </tr>\n",
       "    <tr>\n",
       "      <th>11</th>\n",
       "      <td>96558.34</td>\n",
       "      <td>88080.09</td>\n",
       "      <td>109309.03</td>\n",
       "    </tr>\n",
       "    <tr>\n",
       "      <th>12</th>\n",
       "      <td>119531.30</td>\n",
       "      <td>82423.84</td>\n",
       "      <td>117852.43</td>\n",
       "    </tr>\n",
       "    <tr>\n",
       "      <th rowspan=\"12\" valign=\"top\">2013</th>\n",
       "      <th>1</th>\n",
       "      <td>42761.27</td>\n",
       "      <td>47264.23</td>\n",
       "      <td>47410.53</td>\n",
       "    </tr>\n",
       "    <tr>\n",
       "      <th>2</th>\n",
       "      <td>37635.39</td>\n",
       "      <td>24297.35</td>\n",
       "      <td>36922.23</td>\n",
       "    </tr>\n",
       "    <tr>\n",
       "      <th>3</th>\n",
       "      <td>55082.37</td>\n",
       "      <td>53721.31</td>\n",
       "      <td>54273.17</td>\n",
       "    </tr>\n",
       "    <tr>\n",
       "      <th>4</th>\n",
       "      <td>54701.89</td>\n",
       "      <td>43886.16</td>\n",
       "      <td>62464.37</td>\n",
       "    </tr>\n",
       "    <tr>\n",
       "      <th>5</th>\n",
       "      <td>62939.08</td>\n",
       "      <td>61063.50</td>\n",
       "      <td>84362.55</td>\n",
       "    </tr>\n",
       "    <tr>\n",
       "      <th>6</th>\n",
       "      <td>81480.75</td>\n",
       "      <td>75845.90</td>\n",
       "      <td>98849.11</td>\n",
       "    </tr>\n",
       "    <tr>\n",
       "      <th>7</th>\n",
       "      <td>41491.42</td>\n",
       "      <td>46346.46</td>\n",
       "      <td>57398.98</td>\n",
       "    </tr>\n",
       "    <tr>\n",
       "      <th>8</th>\n",
       "      <td>84644.47</td>\n",
       "      <td>97259.88</td>\n",
       "      <td>121238.77</td>\n",
       "    </tr>\n",
       "    <tr>\n",
       "      <th>9</th>\n",
       "      <td>96165.60</td>\n",
       "      <td>78844.19</td>\n",
       "      <td>114379.46</td>\n",
       "    </tr>\n",
       "    <tr>\n",
       "      <th>10</th>\n",
       "      <td>84823.96</td>\n",
       "      <td>59383.14</td>\n",
       "      <td>108732.79</td>\n",
       "    </tr>\n",
       "    <tr>\n",
       "      <th>11</th>\n",
       "      <td>120279.10</td>\n",
       "      <td>100019.66</td>\n",
       "      <td>103213.80</td>\n",
       "    </tr>\n",
       "    <tr>\n",
       "      <th>12</th>\n",
       "      <td>96816.78</td>\n",
       "      <td>107244.32</td>\n",
       "      <td>134195.97</td>\n",
       "    </tr>\n",
       "    <tr>\n",
       "      <th rowspan=\"12\" valign=\"top\">2014</th>\n",
       "      <th>1</th>\n",
       "      <td>81804.66</td>\n",
       "      <td>64983.76</td>\n",
       "      <td>52397.67</td>\n",
       "    </tr>\n",
       "    <tr>\n",
       "      <th>2</th>\n",
       "      <td>59117.98</td>\n",
       "      <td>51552.93</td>\n",
       "      <td>56568.86</td>\n",
       "    </tr>\n",
       "    <tr>\n",
       "      <th>3</th>\n",
       "      <td>65323.32</td>\n",
       "      <td>62007.93</td>\n",
       "      <td>71262.89</td>\n",
       "    </tr>\n",
       "    <tr>\n",
       "      <th>4</th>\n",
       "      <td>54587.01</td>\n",
       "      <td>55765.77</td>\n",
       "      <td>67468.66</td>\n",
       "    </tr>\n",
       "    <tr>\n",
       "      <th>5</th>\n",
       "      <td>74370.86</td>\n",
       "      <td>74756.04</td>\n",
       "      <td>111371.73</td>\n",
       "    </tr>\n",
       "    <tr>\n",
       "      <th>6</th>\n",
       "      <td>115250.61</td>\n",
       "      <td>111488.64</td>\n",
       "      <td>169780.51</td>\n",
       "    </tr>\n",
       "    <tr>\n",
       "      <th>7</th>\n",
       "      <td>71853.89</td>\n",
       "      <td>70291.08</td>\n",
       "      <td>87783.95</td>\n",
       "    </tr>\n",
       "    <tr>\n",
       "      <th>8</th>\n",
       "      <td>112296.01</td>\n",
       "      <td>93149.86</td>\n",
       "      <td>121043.07</td>\n",
       "    </tr>\n",
       "    <tr>\n",
       "      <th>9</th>\n",
       "      <td>127700.74</td>\n",
       "      <td>110761.80</td>\n",
       "      <td>138156.97</td>\n",
       "    </tr>\n",
       "    <tr>\n",
       "      <th>10</th>\n",
       "      <td>89318.60</td>\n",
       "      <td>77392.89</td>\n",
       "      <td>126695.28</td>\n",
       "    </tr>\n",
       "    <tr>\n",
       "      <th>11</th>\n",
       "      <td>122802.74</td>\n",
       "      <td>110735.94</td>\n",
       "      <td>140450.89</td>\n",
       "    </tr>\n",
       "    <tr>\n",
       "      <th>12</th>\n",
       "      <td>143203.10</td>\n",
       "      <td>127926.30</td>\n",
       "      <td>134325.09</td>\n",
       "    </tr>\n",
       "    <tr>\n",
       "      <th rowspan=\"12\" valign=\"top\">2015</th>\n",
       "      <th>1</th>\n",
       "      <td>69799.48</td>\n",
       "      <td>76654.00</td>\n",
       "      <td>94815.17</td>\n",
       "    </tr>\n",
       "    <tr>\n",
       "      <th>2</th>\n",
       "      <td>57702.83</td>\n",
       "      <td>55184.12</td>\n",
       "      <td>71950.51</td>\n",
       "    </tr>\n",
       "    <tr>\n",
       "      <th>3</th>\n",
       "      <td>89705.40</td>\n",
       "      <td>77576.29</td>\n",
       "      <td>95819.14</td>\n",
       "    </tr>\n",
       "    <tr>\n",
       "      <th>4</th>\n",
       "      <td>70550.85</td>\n",
       "      <td>81371.96</td>\n",
       "      <td>90849.20</td>\n",
       "    </tr>\n",
       "    <tr>\n",
       "      <th>5</th>\n",
       "      <td>98312.08</td>\n",
       "      <td>97974.97</td>\n",
       "      <td>92114.08</td>\n",
       "    </tr>\n",
       "    <tr>\n",
       "      <th>6</th>\n",
       "      <td>136123.17</td>\n",
       "      <td>120340.03</td>\n",
       "      <td>145350.99</td>\n",
       "    </tr>\n",
       "    <tr>\n",
       "      <th>7</th>\n",
       "      <td>82344.33</td>\n",
       "      <td>76971.46</td>\n",
       "      <td>99390.01</td>\n",
       "    </tr>\n",
       "    <tr>\n",
       "      <th>8</th>\n",
       "      <td>126283.90</td>\n",
       "      <td>155430.89</td>\n",
       "      <td>174905.39</td>\n",
       "    </tr>\n",
       "    <tr>\n",
       "      <th>9</th>\n",
       "      <td>175776.68</td>\n",
       "      <td>134386.60</td>\n",
       "      <td>170994.13</td>\n",
       "    </tr>\n",
       "    <tr>\n",
       "      <th>10</th>\n",
       "      <td>130701.28</td>\n",
       "      <td>115771.01</td>\n",
       "      <td>176294.56</td>\n",
       "    </tr>\n",
       "    <tr>\n",
       "      <th>11</th>\n",
       "      <td>168848.72</td>\n",
       "      <td>163851.49</td>\n",
       "      <td>222579.09</td>\n",
       "    </tr>\n",
       "    <tr>\n",
       "      <th>12</th>\n",
       "      <td>171768.37</td>\n",
       "      <td>150278.65</td>\n",
       "      <td>181096.84</td>\n",
       "    </tr>\n",
       "  </tbody>\n",
       "</table>\n",
       "</div>"
      ],
      "text/plain": [
       "Category    Furniture  Office Supplies  Technology\n",
       "Year Month                                        \n",
       "2012 1       34463.74         33526.78    30908.01\n",
       "     2       35799.40         26135.09    41783.52\n",
       "     3       40277.32         31578.62    63890.58\n",
       "     4       30689.56         45562.66    38080.77\n",
       "     5       49768.69         49731.49    58728.17\n",
       "     6       76584.64         61792.79    69194.15\n",
       "     7       31382.98         42806.51    44245.39\n",
       "     8       68000.39         58389.80    81673.12\n",
       "     9       93933.71         99986.91    90667.22\n",
       "     10      79094.27         55700.37    81319.96\n",
       "     11      96558.34         88080.09   109309.03\n",
       "     12     119531.30         82423.84   117852.43\n",
       "2013 1       42761.27         47264.23    47410.53\n",
       "     2       37635.39         24297.35    36922.23\n",
       "     3       55082.37         53721.31    54273.17\n",
       "     4       54701.89         43886.16    62464.37\n",
       "     5       62939.08         61063.50    84362.55\n",
       "     6       81480.75         75845.90    98849.11\n",
       "     7       41491.42         46346.46    57398.98\n",
       "     8       84644.47         97259.88   121238.77\n",
       "     9       96165.60         78844.19   114379.46\n",
       "     10      84823.96         59383.14   108732.79\n",
       "     11     120279.10        100019.66   103213.80\n",
       "     12      96816.78        107244.32   134195.97\n",
       "2014 1       81804.66         64983.76    52397.67\n",
       "     2       59117.98         51552.93    56568.86\n",
       "     3       65323.32         62007.93    71262.89\n",
       "     4       54587.01         55765.77    67468.66\n",
       "     5       74370.86         74756.04   111371.73\n",
       "     6      115250.61        111488.64   169780.51\n",
       "     7       71853.89         70291.08    87783.95\n",
       "     8      112296.01         93149.86   121043.07\n",
       "     9      127700.74        110761.80   138156.97\n",
       "     10      89318.60         77392.89   126695.28\n",
       "     11     122802.74        110735.94   140450.89\n",
       "     12     143203.10        127926.30   134325.09\n",
       "2015 1       69799.48         76654.00    94815.17\n",
       "     2       57702.83         55184.12    71950.51\n",
       "     3       89705.40         77576.29    95819.14\n",
       "     4       70550.85         81371.96    90849.20\n",
       "     5       98312.08         97974.97    92114.08\n",
       "     6      136123.17        120340.03   145350.99\n",
       "     7       82344.33         76971.46    99390.01\n",
       "     8      126283.90        155430.89   174905.39\n",
       "     9      175776.68        134386.60   170994.13\n",
       "     10     130701.28        115771.01   176294.56\n",
       "     11     168848.72        163851.49   222579.09\n",
       "     12     171768.37        150278.65   181096.84"
      ]
     },
     "execution_count": 99,
     "metadata": {},
     "output_type": "execute_result"
    }
   ],
   "source": [
    "seacat_sales"
   ]
  },
  {
   "cell_type": "code",
   "execution_count": 101,
   "id": "df6c82d3",
   "metadata": {
    "scrolled": true
   },
   "outputs": [
    {
     "data": {
      "text/html": [
       "<div>\n",
       "<style scoped>\n",
       "    .dataframe tbody tr th:only-of-type {\n",
       "        vertical-align: middle;\n",
       "    }\n",
       "\n",
       "    .dataframe tbody tr th {\n",
       "        vertical-align: top;\n",
       "    }\n",
       "\n",
       "    .dataframe thead th {\n",
       "        text-align: right;\n",
       "    }\n",
       "</style>\n",
       "<table border=\"1\" class=\"dataframe\">\n",
       "  <thead>\n",
       "    <tr style=\"text-align: right;\">\n",
       "      <th></th>\n",
       "      <th>Category</th>\n",
       "      <th>Furniture</th>\n",
       "      <th>Office Supplies</th>\n",
       "      <th>Technology</th>\n",
       "    </tr>\n",
       "    <tr>\n",
       "      <th>Year</th>\n",
       "      <th>Month</th>\n",
       "      <th></th>\n",
       "      <th></th>\n",
       "      <th></th>\n",
       "    </tr>\n",
       "  </thead>\n",
       "  <tbody>\n",
       "    <tr>\n",
       "      <th rowspan=\"12\" valign=\"top\">2012</th>\n",
       "      <th>1</th>\n",
       "      <td>691.18</td>\n",
       "      <td>4573.73</td>\n",
       "      <td>3056.85</td>\n",
       "    </tr>\n",
       "    <tr>\n",
       "      <th>2</th>\n",
       "      <td>3713.39</td>\n",
       "      <td>2829.71</td>\n",
       "      <td>7779.92</td>\n",
       "    </tr>\n",
       "    <tr>\n",
       "      <th>3</th>\n",
       "      <td>4022.49</td>\n",
       "      <td>5947.45</td>\n",
       "      <td>3119.65</td>\n",
       "    </tr>\n",
       "    <tr>\n",
       "      <th>4</th>\n",
       "      <td>2116.57</td>\n",
       "      <td>5649.00</td>\n",
       "      <td>5445.54</td>\n",
       "    </tr>\n",
       "    <tr>\n",
       "      <th>5</th>\n",
       "      <td>1352.49</td>\n",
       "      <td>6032.57</td>\n",
       "      <td>7259.04</td>\n",
       "    </tr>\n",
       "    <tr>\n",
       "      <th>6</th>\n",
       "      <td>2919.94</td>\n",
       "      <td>7627.11</td>\n",
       "      <td>10393.44</td>\n",
       "    </tr>\n",
       "    <tr>\n",
       "      <th>7</th>\n",
       "      <td>-777.54</td>\n",
       "      <td>745.13</td>\n",
       "      <td>4072.97</td>\n",
       "    </tr>\n",
       "    <tr>\n",
       "      <th>8</th>\n",
       "      <td>2653.93</td>\n",
       "      <td>10584.24</td>\n",
       "      <td>13214.80</td>\n",
       "    </tr>\n",
       "    <tr>\n",
       "      <th>9</th>\n",
       "      <td>10255.61</td>\n",
       "      <td>17019.23</td>\n",
       "      <td>7769.70</td>\n",
       "    </tr>\n",
       "    <tr>\n",
       "      <th>10</th>\n",
       "      <td>9529.13</td>\n",
       "      <td>5888.51</td>\n",
       "      <td>12180.26</td>\n",
       "    </tr>\n",
       "    <tr>\n",
       "      <th>11</th>\n",
       "      <td>4809.25</td>\n",
       "      <td>9697.18</td>\n",
       "      <td>18736.37</td>\n",
       "    </tr>\n",
       "    <tr>\n",
       "      <th>12</th>\n",
       "      <td>12368.12</td>\n",
       "      <td>9444.47</td>\n",
       "      <td>16218.92</td>\n",
       "    </tr>\n",
       "    <tr>\n",
       "      <th rowspan=\"12\" valign=\"top\">2013</th>\n",
       "      <th>1</th>\n",
       "      <td>-1810.63</td>\n",
       "      <td>6864.71</td>\n",
       "      <td>5252.65</td>\n",
       "    </tr>\n",
       "    <tr>\n",
       "      <th>2</th>\n",
       "      <td>4387.25</td>\n",
       "      <td>4162.68</td>\n",
       "      <td>6545.07</td>\n",
       "    </tr>\n",
       "    <tr>\n",
       "      <th>3</th>\n",
       "      <td>1728.14</td>\n",
       "      <td>9201.05</td>\n",
       "      <td>7063.68</td>\n",
       "    </tr>\n",
       "    <tr>\n",
       "      <th>4</th>\n",
       "      <td>3175.54</td>\n",
       "      <td>5713.67</td>\n",
       "      <td>8477.80</td>\n",
       "    </tr>\n",
       "    <tr>\n",
       "      <th>5</th>\n",
       "      <td>6916.79</td>\n",
       "      <td>7773.80</td>\n",
       "      <td>15186.16</td>\n",
       "    </tr>\n",
       "    <tr>\n",
       "      <th>6</th>\n",
       "      <td>7720.19</td>\n",
       "      <td>9647.77</td>\n",
       "      <td>17039.06</td>\n",
       "    </tr>\n",
       "    <tr>\n",
       "      <th>7</th>\n",
       "      <td>3016.97</td>\n",
       "      <td>6312.41</td>\n",
       "      <td>6256.05</td>\n",
       "    </tr>\n",
       "    <tr>\n",
       "      <th>8</th>\n",
       "      <td>6344.72</td>\n",
       "      <td>15419.00</td>\n",
       "      <td>21810.20</td>\n",
       "    </tr>\n",
       "    <tr>\n",
       "      <th>9</th>\n",
       "      <td>8613.72</td>\n",
       "      <td>7581.25</td>\n",
       "      <td>11581.27</td>\n",
       "    </tr>\n",
       "    <tr>\n",
       "      <th>10</th>\n",
       "      <td>7579.60</td>\n",
       "      <td>5999.66</td>\n",
       "      <td>17083.62</td>\n",
       "    </tr>\n",
       "    <tr>\n",
       "      <th>11</th>\n",
       "      <td>4677.39</td>\n",
       "      <td>11648.84</td>\n",
       "      <td>15494.51</td>\n",
       "    </tr>\n",
       "    <tr>\n",
       "      <th>12</th>\n",
       "      <td>5766.34</td>\n",
       "      <td>12997.48</td>\n",
       "      <td>14186.92</td>\n",
       "    </tr>\n",
       "    <tr>\n",
       "      <th rowspan=\"12\" valign=\"top\">2014</th>\n",
       "      <th>1</th>\n",
       "      <td>10821.50</td>\n",
       "      <td>9854.41</td>\n",
       "      <td>6134.67</td>\n",
       "    </tr>\n",
       "    <tr>\n",
       "      <th>2</th>\n",
       "      <td>6402.24</td>\n",
       "      <td>8040.13</td>\n",
       "      <td>9320.08</td>\n",
       "    </tr>\n",
       "    <tr>\n",
       "      <th>3</th>\n",
       "      <td>2612.86</td>\n",
       "      <td>9418.51</td>\n",
       "      <td>11402.46</td>\n",
       "    </tr>\n",
       "    <tr>\n",
       "      <th>4</th>\n",
       "      <td>1365.04</td>\n",
       "      <td>7198.09</td>\n",
       "      <td>10899.00</td>\n",
       "    </tr>\n",
       "    <tr>\n",
       "      <th>5</th>\n",
       "      <td>924.01</td>\n",
       "      <td>12014.02</td>\n",
       "      <td>15557.56</td>\n",
       "    </tr>\n",
       "    <tr>\n",
       "      <th>6</th>\n",
       "      <td>10201.47</td>\n",
       "      <td>10622.36</td>\n",
       "      <td>24654.46</td>\n",
       "    </tr>\n",
       "    <tr>\n",
       "      <th>7</th>\n",
       "      <td>6866.35</td>\n",
       "      <td>12826.90</td>\n",
       "      <td>9170.45</td>\n",
       "    </tr>\n",
       "    <tr>\n",
       "      <th>8</th>\n",
       "      <td>4540.01</td>\n",
       "      <td>11037.24</td>\n",
       "      <td>15446.35</td>\n",
       "    </tr>\n",
       "    <tr>\n",
       "      <th>9</th>\n",
       "      <td>11511.93</td>\n",
       "      <td>14370.40</td>\n",
       "      <td>13023.29</td>\n",
       "    </tr>\n",
       "    <tr>\n",
       "      <th>10</th>\n",
       "      <td>6711.80</td>\n",
       "      <td>11880.36</td>\n",
       "      <td>23841.11</td>\n",
       "    </tr>\n",
       "    <tr>\n",
       "      <th>11</th>\n",
       "      <td>13528.81</td>\n",
       "      <td>16435.30</td>\n",
       "      <td>18098.94</td>\n",
       "    </tr>\n",
       "    <tr>\n",
       "      <th>12</th>\n",
       "      <td>8561.14</td>\n",
       "      <td>25563.48</td>\n",
       "      <td>16078.16</td>\n",
       "    </tr>\n",
       "    <tr>\n",
       "      <th rowspan=\"12\" valign=\"top\">2015</th>\n",
       "      <th>1</th>\n",
       "      <td>4522.81</td>\n",
       "      <td>9592.72</td>\n",
       "      <td>13885.85</td>\n",
       "    </tr>\n",
       "    <tr>\n",
       "      <th>2</th>\n",
       "      <td>3819.09</td>\n",
       "      <td>7191.94</td>\n",
       "      <td>8740.68</td>\n",
       "    </tr>\n",
       "    <tr>\n",
       "      <th>3</th>\n",
       "      <td>9499.69</td>\n",
       "      <td>10728.71</td>\n",
       "      <td>17128.76</td>\n",
       "    </tr>\n",
       "    <tr>\n",
       "      <th>4</th>\n",
       "      <td>3206.96</td>\n",
       "      <td>10090.13</td>\n",
       "      <td>10485.23</td>\n",
       "    </tr>\n",
       "    <tr>\n",
       "      <th>5</th>\n",
       "      <td>4714.88</td>\n",
       "      <td>14489.93</td>\n",
       "      <td>14748.82</td>\n",
       "    </tr>\n",
       "    <tr>\n",
       "      <th>6</th>\n",
       "      <td>7446.07</td>\n",
       "      <td>16237.42</td>\n",
       "      <td>20095.06</td>\n",
       "    </tr>\n",
       "    <tr>\n",
       "      <th>7</th>\n",
       "      <td>3400.06</td>\n",
       "      <td>11527.51</td>\n",
       "      <td>13108.24</td>\n",
       "    </tr>\n",
       "    <tr>\n",
       "      <th>8</th>\n",
       "      <td>9018.12</td>\n",
       "      <td>24209.91</td>\n",
       "      <td>20314.96</td>\n",
       "    </tr>\n",
       "    <tr>\n",
       "      <th>9</th>\n",
       "      <td>17999.31</td>\n",
       "      <td>21769.72</td>\n",
       "      <td>28210.51</td>\n",
       "    </tr>\n",
       "    <tr>\n",
       "      <th>10</th>\n",
       "      <td>9066.27</td>\n",
       "      <td>18911.41</td>\n",
       "      <td>30232.29</td>\n",
       "    </tr>\n",
       "    <tr>\n",
       "      <th>11</th>\n",
       "      <td>9106.12</td>\n",
       "      <td>22452.72</td>\n",
       "      <td>31297.80</td>\n",
       "    </tr>\n",
       "    <tr>\n",
       "      <th>12</th>\n",
       "      <td>7465.50</td>\n",
       "      <td>12770.87</td>\n",
       "      <td>26680.03</td>\n",
       "    </tr>\n",
       "  </tbody>\n",
       "</table>\n",
       "</div>"
      ],
      "text/plain": [
       "Category    Furniture  Office Supplies  Technology\n",
       "Year Month                                        \n",
       "2012 1         691.18          4573.73     3056.85\n",
       "     2        3713.39          2829.71     7779.92\n",
       "     3        4022.49          5947.45     3119.65\n",
       "     4        2116.57          5649.00     5445.54\n",
       "     5        1352.49          6032.57     7259.04\n",
       "     6        2919.94          7627.11    10393.44\n",
       "     7        -777.54           745.13     4072.97\n",
       "     8        2653.93         10584.24    13214.80\n",
       "     9       10255.61         17019.23     7769.70\n",
       "     10       9529.13          5888.51    12180.26\n",
       "     11       4809.25          9697.18    18736.37\n",
       "     12      12368.12          9444.47    16218.92\n",
       "2013 1       -1810.63          6864.71     5252.65\n",
       "     2        4387.25          4162.68     6545.07\n",
       "     3        1728.14          9201.05     7063.68\n",
       "     4        3175.54          5713.67     8477.80\n",
       "     5        6916.79          7773.80    15186.16\n",
       "     6        7720.19          9647.77    17039.06\n",
       "     7        3016.97          6312.41     6256.05\n",
       "     8        6344.72         15419.00    21810.20\n",
       "     9        8613.72          7581.25    11581.27\n",
       "     10       7579.60          5999.66    17083.62\n",
       "     11       4677.39         11648.84    15494.51\n",
       "     12       5766.34         12997.48    14186.92\n",
       "2014 1       10821.50          9854.41     6134.67\n",
       "     2        6402.24          8040.13     9320.08\n",
       "     3        2612.86          9418.51    11402.46\n",
       "     4        1365.04          7198.09    10899.00\n",
       "     5         924.01         12014.02    15557.56\n",
       "     6       10201.47         10622.36    24654.46\n",
       "     7        6866.35         12826.90     9170.45\n",
       "     8        4540.01         11037.24    15446.35\n",
       "     9       11511.93         14370.40    13023.29\n",
       "     10       6711.80         11880.36    23841.11\n",
       "     11      13528.81         16435.30    18098.94\n",
       "     12       8561.14         25563.48    16078.16\n",
       "2015 1        4522.81          9592.72    13885.85\n",
       "     2        3819.09          7191.94     8740.68\n",
       "     3        9499.69         10728.71    17128.76\n",
       "     4        3206.96         10090.13    10485.23\n",
       "     5        4714.88         14489.93    14748.82\n",
       "     6        7446.07         16237.42    20095.06\n",
       "     7        3400.06         11527.51    13108.24\n",
       "     8        9018.12         24209.91    20314.96\n",
       "     9       17999.31         21769.72    28210.51\n",
       "     10       9066.27         18911.41    30232.29\n",
       "     11       9106.12         22452.72    31297.80\n",
       "     12       7465.50         12770.87    26680.03"
      ]
     },
     "execution_count": 101,
     "metadata": {},
     "output_type": "execute_result"
    }
   ],
   "source": [
    "seacat_profit = orders.groupby(['Year', 'Month', 'Category'])['Profit'].sum().unstack('Category')\n",
    "seacat_profit"
   ]
  },
  {
   "cell_type": "code",
   "execution_count": 97,
   "id": "e4608d5b",
   "metadata": {},
   "outputs": [
    {
     "data": {
      "text/plain": [
       "<AxesSubplot:title={'center':'Quantity by Category over Time'}, xlabel='Year,Month'>"
      ]
     },
     "execution_count": 97,
     "metadata": {},
     "output_type": "execute_result"
    },
    {
     "data": {
      "image/png": "[encoded data removed]",
      "text/plain": [
       "<Figure size 432x288 with 1 Axes>"
      ]
     },
     "metadata": {
      "needs_background": "light"
     },
     "output_type": "display_data"
    }
   ],
   "source": [
    "seacat_quant.plot(\n",
    "    y=seacat_quant.columns,\n",
    "    title='Quantity by Category over Time'\n",
    ")\n",
    "\n",
    "#cyclical pattern, with overall increase per year, with Office Supplies having highest quantity"
   ]
  },
  {
   "cell_type": "code",
   "execution_count": 103,
   "id": "a01c3d94",
   "metadata": {},
   "outputs": [
    {
     "data": {
      "text/plain": [
       "<AxesSubplot:title={'center':'Sales by Category over Time'}, xlabel='Year,Month'>"
      ]
     },
     "execution_count": 103,
     "metadata": {},
     "output_type": "execute_result"
    },
    {
     "data": {
      "image/png": "[encoded data removed]",
      "text/plain": [
       "<Figure size 432x288 with 1 Axes>"
      ]
     },
     "metadata": {
      "needs_background": "light"
     },
     "output_type": "display_data"
    }
   ],
   "source": [
    "seacat_sales.plot(\n",
    "    y=seacat_sales.columns,\n",
    "    title='Sales by Category over Time'\n",
    ")\n",
    "\n",
    "#sales closer for the categories"
   ]
  },
  {
   "cell_type": "code",
   "execution_count": 104,
   "id": "6c154bc3",
   "metadata": {},
   "outputs": [
    {
     "data": {
      "text/plain": [
       "<AxesSubplot:title={'center':'Profit by Category over Time'}, xlabel='Year,Month'>"
      ]
     },
     "execution_count": 104,
     "metadata": {},
     "output_type": "execute_result"
    },
    {
     "data": {
      "image/png": "[encoded data removed]",
      "text/plain": [
       "<Figure size 432x288 with 1 Axes>"
      ]
     },
     "metadata": {
      "needs_background": "light"
     },
     "output_type": "display_data"
    }
   ],
   "source": [
    "seacat_profit.plot(\n",
    "    y=seacat_profit.columns,\n",
    "    title='Profit by Category over Time'\n",
    ")\n",
    "\n",
    "#profit highest for Technology and least for Furniture"
   ]
  },
  {
   "cell_type": "markdown",
   "id": "b4ba01fa",
   "metadata": {},
   "source": [
    "### Problem 3: Why did customers make returns?\n",
    "- Your manager required you to give a brief report (**Plots + Interpretations**) on returned orders.\n",
    "\n",
    "\t1. How much profit did we lose due to returns each year?\n",
    "\n",
    "\n",
    "\t2. How many customer returned more than once? more than 5 times?\n",
    "\n",
    "\n",
    "\t3. Which regions are more likely to return orders?\n",
    "\n",
    "\n",
    "\t4. Which categories (sub-categories) of products are more likely to be returned?\n",
    "\n",
    "- ***Hint:*** Merge the **Returns** dataframe with the **Orders** dataframe using `Order.ID`."
   ]
  },
  {
   "cell_type": "code",
   "execution_count": 105,
   "id": "41487d99",
   "metadata": {},
   "outputs": [
    {
     "data": {
      "text/plain": [
       "Index(['Returned', 'Order.ID', 'Region'], dtype='object')"
      ]
     },
     "execution_count": 105,
     "metadata": {},
     "output_type": "execute_result"
    }
   ],
   "source": [
    "returns.rename(columns={'Order ID':'Order.ID'},inplace=True)\n",
    "returns.columns"
   ]
  },
  {
   "cell_type": "code",
   "execution_count": 106,
   "id": "c2dcddff",
   "metadata": {},
   "outputs": [
    {
     "data": {
      "text/html": [
       "<div>\n",
       "<style scoped>\n",
       "    .dataframe tbody tr th:only-of-type {\n",
       "        vertical-align: middle;\n",
       "    }\n",
       "\n",
       "    .dataframe tbody tr th {\n",
       "        vertical-align: top;\n",
       "    }\n",
       "\n",
       "    .dataframe thead th {\n",
       "        text-align: right;\n",
       "    }\n",
       "</style>\n",
       "<table border=\"1\" class=\"dataframe\">\n",
       "  <thead>\n",
       "    <tr style=\"text-align: right;\">\n",
       "      <th></th>\n",
       "      <th>Row.ID</th>\n",
       "      <th>Order.ID</th>\n",
       "      <th>Order.Date</th>\n",
       "      <th>Ship.Date</th>\n",
       "      <th>Ship.Mode</th>\n",
       "      <th>Customer.ID</th>\n",
       "      <th>Customer.Name</th>\n",
       "      <th>Segment</th>\n",
       "      <th>Postal.Code</th>\n",
       "      <th>City</th>\n",
       "      <th>...</th>\n",
       "      <th>Sales</th>\n",
       "      <th>Quantity</th>\n",
       "      <th>Discount</th>\n",
       "      <th>Profit</th>\n",
       "      <th>Shipping.Cost</th>\n",
       "      <th>Order.Priority</th>\n",
       "      <th>Month</th>\n",
       "      <th>Year</th>\n",
       "      <th>Returned</th>\n",
       "      <th>Region_y</th>\n",
       "    </tr>\n",
       "  </thead>\n",
       "  <tbody>\n",
       "    <tr>\n",
       "      <th>0</th>\n",
       "      <td>40098</td>\n",
       "      <td>CA-2014-AB10015140-41954</td>\n",
       "      <td>2014-11-11</td>\n",
       "      <td>11/13/14</td>\n",
       "      <td>First Class</td>\n",
       "      <td>AB-100151402</td>\n",
       "      <td>Aaron Bergman</td>\n",
       "      <td>Consumer</td>\n",
       "      <td>73120.0</td>\n",
       "      <td>Oklahoma City</td>\n",
       "      <td>...</td>\n",
       "      <td>221.98</td>\n",
       "      <td>2</td>\n",
       "      <td>0.0</td>\n",
       "      <td>62.15</td>\n",
       "      <td>40.77</td>\n",
       "      <td>High</td>\n",
       "      <td>11</td>\n",
       "      <td>2014</td>\n",
       "      <td>NaN</td>\n",
       "      <td>NaN</td>\n",
       "    </tr>\n",
       "    <tr>\n",
       "      <th>1</th>\n",
       "      <td>26341</td>\n",
       "      <td>IN-2014-JR162107-41675</td>\n",
       "      <td>2014-02-05</td>\n",
       "      <td>2/7/14</td>\n",
       "      <td>Second Class</td>\n",
       "      <td>JR-162107</td>\n",
       "      <td>Justin Ritter</td>\n",
       "      <td>Corporate</td>\n",
       "      <td>NaN</td>\n",
       "      <td>Wollongong</td>\n",
       "      <td>...</td>\n",
       "      <td>3709.40</td>\n",
       "      <td>9</td>\n",
       "      <td>0.1</td>\n",
       "      <td>-288.77</td>\n",
       "      <td>923.63</td>\n",
       "      <td>Critical</td>\n",
       "      <td>2</td>\n",
       "      <td>2014</td>\n",
       "      <td>NaN</td>\n",
       "      <td>NaN</td>\n",
       "    </tr>\n",
       "    <tr>\n",
       "      <th>2</th>\n",
       "      <td>25330</td>\n",
       "      <td>IN-2014-CR127307-41929</td>\n",
       "      <td>2014-10-17</td>\n",
       "      <td>10/18/14</td>\n",
       "      <td>First Class</td>\n",
       "      <td>CR-127307</td>\n",
       "      <td>Craig Reiter</td>\n",
       "      <td>Consumer</td>\n",
       "      <td>NaN</td>\n",
       "      <td>Brisbane</td>\n",
       "      <td>...</td>\n",
       "      <td>5175.17</td>\n",
       "      <td>9</td>\n",
       "      <td>0.1</td>\n",
       "      <td>919.97</td>\n",
       "      <td>915.49</td>\n",
       "      <td>Medium</td>\n",
       "      <td>10</td>\n",
       "      <td>2014</td>\n",
       "      <td>NaN</td>\n",
       "      <td>NaN</td>\n",
       "    </tr>\n",
       "    <tr>\n",
       "      <th>3</th>\n",
       "      <td>13524</td>\n",
       "      <td>ES-2014-KM1637548-41667</td>\n",
       "      <td>2014-01-28</td>\n",
       "      <td>1/30/14</td>\n",
       "      <td>First Class</td>\n",
       "      <td>KM-1637548</td>\n",
       "      <td>Katherine Murray</td>\n",
       "      <td>Home Office</td>\n",
       "      <td>NaN</td>\n",
       "      <td>Berlin</td>\n",
       "      <td>...</td>\n",
       "      <td>2892.51</td>\n",
       "      <td>5</td>\n",
       "      <td>0.1</td>\n",
       "      <td>-96.54</td>\n",
       "      <td>910.16</td>\n",
       "      <td>Medium</td>\n",
       "      <td>1</td>\n",
       "      <td>2014</td>\n",
       "      <td>NaN</td>\n",
       "      <td>NaN</td>\n",
       "    </tr>\n",
       "    <tr>\n",
       "      <th>4</th>\n",
       "      <td>47221</td>\n",
       "      <td>SG-2014-RH9495111-41948</td>\n",
       "      <td>2014-11-05</td>\n",
       "      <td>11/6/14</td>\n",
       "      <td>Same Day</td>\n",
       "      <td>RH-9495111</td>\n",
       "      <td>Rick Hansen</td>\n",
       "      <td>Consumer</td>\n",
       "      <td>NaN</td>\n",
       "      <td>Dakar</td>\n",
       "      <td>...</td>\n",
       "      <td>2832.96</td>\n",
       "      <td>8</td>\n",
       "      <td>0.0</td>\n",
       "      <td>311.52</td>\n",
       "      <td>903.04</td>\n",
       "      <td>Critical</td>\n",
       "      <td>11</td>\n",
       "      <td>2014</td>\n",
       "      <td>NaN</td>\n",
       "      <td>NaN</td>\n",
       "    </tr>\n",
       "  </tbody>\n",
       "</table>\n",
       "<p>5 rows × 28 columns</p>\n",
       "</div>"
      ],
      "text/plain": [
       "   Row.ID                  Order.ID Order.Date Ship.Date     Ship.Mode  \\\n",
       "0   40098  CA-2014-AB10015140-41954 2014-11-11  11/13/14   First Class   \n",
       "1   26341    IN-2014-JR162107-41675 2014-02-05    2/7/14  Second Class   \n",
       "2   25330    IN-2014-CR127307-41929 2014-10-17  10/18/14   First Class   \n",
       "3   13524   ES-2014-KM1637548-41667 2014-01-28   1/30/14   First Class   \n",
       "4   47221   SG-2014-RH9495111-41948 2014-11-05   11/6/14      Same Day   \n",
       "\n",
       "    Customer.ID     Customer.Name      Segment  Postal.Code           City  \\\n",
       "0  AB-100151402     Aaron Bergman     Consumer      73120.0  Oklahoma City   \n",
       "1     JR-162107     Justin Ritter    Corporate          NaN     Wollongong   \n",
       "2     CR-127307      Craig Reiter     Consumer          NaN       Brisbane   \n",
       "3    KM-1637548  Katherine Murray  Home Office          NaN         Berlin   \n",
       "4    RH-9495111       Rick Hansen     Consumer          NaN          Dakar   \n",
       "\n",
       "   ...    Sales Quantity Discount  Profit Shipping.Cost Order.Priority Month  \\\n",
       "0  ...   221.98        2      0.0   62.15         40.77           High    11   \n",
       "1  ...  3709.40        9      0.1 -288.77        923.63       Critical     2   \n",
       "2  ...  5175.17        9      0.1  919.97        915.49         Medium    10   \n",
       "3  ...  2892.51        5      0.1  -96.54        910.16         Medium     1   \n",
       "4  ...  2832.96        8      0.0  311.52        903.04       Critical    11   \n",
       "\n",
       "   Year  Returned  Region_y  \n",
       "0  2014       NaN       NaN  \n",
       "1  2014       NaN       NaN  \n",
       "2  2014       NaN       NaN  \n",
       "3  2014       NaN       NaN  \n",
       "4  2014       NaN       NaN  \n",
       "\n",
       "[5 rows x 28 columns]"
      ]
     },
     "execution_count": 106,
     "metadata": {},
     "output_type": "execute_result"
    }
   ],
   "source": [
    "orders = orders.merge(returns, how='left', on='Order.ID')\n",
    "orders.head()"
   ]
  },
  {
   "cell_type": "code",
   "execution_count": 107,
   "id": "0ff4b2fc",
   "metadata": {},
   "outputs": [
    {
     "data": {
      "text/html": [
       "<div>\n",
       "<style scoped>\n",
       "    .dataframe tbody tr th:only-of-type {\n",
       "        vertical-align: middle;\n",
       "    }\n",
       "\n",
       "    .dataframe tbody tr th {\n",
       "        vertical-align: top;\n",
       "    }\n",
       "\n",
       "    .dataframe thead th {\n",
       "        text-align: right;\n",
       "    }\n",
       "</style>\n",
       "<table border=\"1\" class=\"dataframe\">\n",
       "  <thead>\n",
       "    <tr style=\"text-align: right;\">\n",
       "      <th></th>\n",
       "      <th>Row.ID</th>\n",
       "      <th>Order.ID</th>\n",
       "      <th>Order.Date</th>\n",
       "      <th>Ship.Date</th>\n",
       "      <th>Ship.Mode</th>\n",
       "      <th>Customer.ID</th>\n",
       "      <th>Customer.Name</th>\n",
       "      <th>Segment</th>\n",
       "      <th>Postal.Code</th>\n",
       "      <th>City</th>\n",
       "      <th>...</th>\n",
       "      <th>Sales</th>\n",
       "      <th>Quantity</th>\n",
       "      <th>Discount</th>\n",
       "      <th>Profit</th>\n",
       "      <th>Shipping.Cost</th>\n",
       "      <th>Order.Priority</th>\n",
       "      <th>Month</th>\n",
       "      <th>Year</th>\n",
       "      <th>Returned</th>\n",
       "      <th>Region_y</th>\n",
       "    </tr>\n",
       "  </thead>\n",
       "  <tbody>\n",
       "    <tr>\n",
       "      <th>26</th>\n",
       "      <td>30191</td>\n",
       "      <td>IN-2012-PB19210127-41259</td>\n",
       "      <td>2012-12-16</td>\n",
       "      <td>12/19/12</td>\n",
       "      <td>First Class</td>\n",
       "      <td>PB-19210127</td>\n",
       "      <td>Phillip Breyer</td>\n",
       "      <td>Corporate</td>\n",
       "      <td>NaN</td>\n",
       "      <td>Taipei</td>\n",
       "      <td>...</td>\n",
       "      <td>1715.16</td>\n",
       "      <td>2</td>\n",
       "      <td>0.0</td>\n",
       "      <td>720.36</td>\n",
       "      <td>725.57</td>\n",
       "      <td>Critical</td>\n",
       "      <td>12</td>\n",
       "      <td>2012</td>\n",
       "      <td>Yes</td>\n",
       "      <td>Eastern Asia</td>\n",
       "    </tr>\n",
       "    <tr>\n",
       "      <th>53</th>\n",
       "      <td>30190</td>\n",
       "      <td>IN-2012-PB19210127-41259</td>\n",
       "      <td>2012-12-16</td>\n",
       "      <td>12/19/12</td>\n",
       "      <td>First Class</td>\n",
       "      <td>PB-19210127</td>\n",
       "      <td>Phillip Breyer</td>\n",
       "      <td>Corporate</td>\n",
       "      <td>NaN</td>\n",
       "      <td>Taipei</td>\n",
       "      <td>...</td>\n",
       "      <td>2197.50</td>\n",
       "      <td>5</td>\n",
       "      <td>0.0</td>\n",
       "      <td>153.75</td>\n",
       "      <td>627.27</td>\n",
       "      <td>Critical</td>\n",
       "      <td>12</td>\n",
       "      <td>2012</td>\n",
       "      <td>Yes</td>\n",
       "      <td>Eastern Asia</td>\n",
       "    </tr>\n",
       "    <tr>\n",
       "      <th>75</th>\n",
       "      <td>25438</td>\n",
       "      <td>IN-2015-JH158207-42140</td>\n",
       "      <td>2015-05-16</td>\n",
       "      <td>5/18/15</td>\n",
       "      <td>Second Class</td>\n",
       "      <td>JH-158207</td>\n",
       "      <td>John Huston</td>\n",
       "      <td>Consumer</td>\n",
       "      <td>NaN</td>\n",
       "      <td>Melbourne</td>\n",
       "      <td>...</td>\n",
       "      <td>2863.35</td>\n",
       "      <td>5</td>\n",
       "      <td>0.1</td>\n",
       "      <td>858.90</td>\n",
       "      <td>581.88</td>\n",
       "      <td>Critical</td>\n",
       "      <td>5</td>\n",
       "      <td>2015</td>\n",
       "      <td>Yes</td>\n",
       "      <td>Oceania</td>\n",
       "    </tr>\n",
       "    <tr>\n",
       "      <th>110</th>\n",
       "      <td>32648</td>\n",
       "      <td>CA-2014-AS10045140-41727</td>\n",
       "      <td>2014-03-29</td>\n",
       "      <td>4/1/14</td>\n",
       "      <td>First Class</td>\n",
       "      <td>AS-100451408</td>\n",
       "      <td>Aaron Smayling</td>\n",
       "      <td>Corporate</td>\n",
       "      <td>22204.0</td>\n",
       "      <td>Arlington</td>\n",
       "      <td>...</td>\n",
       "      <td>31.40</td>\n",
       "      <td>2</td>\n",
       "      <td>0.0</td>\n",
       "      <td>7.85</td>\n",
       "      <td>3.81</td>\n",
       "      <td>Medium</td>\n",
       "      <td>3</td>\n",
       "      <td>2014</td>\n",
       "      <td>Yes</td>\n",
       "      <td>Southern US</td>\n",
       "    </tr>\n",
       "    <tr>\n",
       "      <th>113</th>\n",
       "      <td>29629</td>\n",
       "      <td>IN-2014-LC168857-41747</td>\n",
       "      <td>2014-04-18</td>\n",
       "      <td>4/19/14</td>\n",
       "      <td>First Class</td>\n",
       "      <td>LC-168857</td>\n",
       "      <td>Lena Creighton</td>\n",
       "      <td>Consumer</td>\n",
       "      <td>NaN</td>\n",
       "      <td>Sydney</td>\n",
       "      <td>...</td>\n",
       "      <td>1601.64</td>\n",
       "      <td>5</td>\n",
       "      <td>0.1</td>\n",
       "      <td>587.19</td>\n",
       "      <td>511.47</td>\n",
       "      <td>Critical</td>\n",
       "      <td>4</td>\n",
       "      <td>2014</td>\n",
       "      <td>Yes</td>\n",
       "      <td>Oceania</td>\n",
       "    </tr>\n",
       "  </tbody>\n",
       "</table>\n",
       "<p>5 rows × 28 columns</p>\n",
       "</div>"
      ],
      "text/plain": [
       "     Row.ID                  Order.ID Order.Date Ship.Date     Ship.Mode  \\\n",
       "26    30191  IN-2012-PB19210127-41259 2012-12-16  12/19/12   First Class   \n",
       "53    30190  IN-2012-PB19210127-41259 2012-12-16  12/19/12   First Class   \n",
       "75    25438    IN-2015-JH158207-42140 2015-05-16   5/18/15  Second Class   \n",
       "110   32648  CA-2014-AS10045140-41727 2014-03-29    4/1/14   First Class   \n",
       "113   29629    IN-2014-LC168857-41747 2014-04-18   4/19/14   First Class   \n",
       "\n",
       "      Customer.ID   Customer.Name    Segment  Postal.Code       City  ...  \\\n",
       "26    PB-19210127  Phillip Breyer  Corporate          NaN     Taipei  ...   \n",
       "53    PB-19210127  Phillip Breyer  Corporate          NaN     Taipei  ...   \n",
       "75      JH-158207     John Huston   Consumer          NaN  Melbourne  ...   \n",
       "110  AS-100451408  Aaron Smayling  Corporate      22204.0  Arlington  ...   \n",
       "113     LC-168857  Lena Creighton   Consumer          NaN     Sydney  ...   \n",
       "\n",
       "       Sales Quantity Discount  Profit Shipping.Cost Order.Priority Month  \\\n",
       "26   1715.16        2      0.0  720.36        725.57       Critical    12   \n",
       "53   2197.50        5      0.0  153.75        627.27       Critical    12   \n",
       "75   2863.35        5      0.1  858.90        581.88       Critical     5   \n",
       "110    31.40        2      0.0    7.85          3.81         Medium     3   \n",
       "113  1601.64        5      0.1  587.19        511.47       Critical     4   \n",
       "\n",
       "     Year  Returned      Region_y  \n",
       "26   2012       Yes  Eastern Asia  \n",
       "53   2012       Yes  Eastern Asia  \n",
       "75   2015       Yes       Oceania  \n",
       "110  2014       Yes   Southern US  \n",
       "113  2014       Yes       Oceania  \n",
       "\n",
       "[5 rows x 28 columns]"
      ]
     },
     "execution_count": 107,
     "metadata": {},
     "output_type": "execute_result"
    }
   ],
   "source": [
    "returned_orders = orders[orders['Returned']=='Yes']\n",
    "returned_orders.head()"
   ]
  },
  {
   "cell_type": "code",
   "execution_count": 117,
   "id": "2b5b1bf2",
   "metadata": {},
   "outputs": [],
   "source": [
    "returned_loss = returned_orders.groupby(['Year'])[['Profit']].sum()\n",
    "returned_loss.rename(columns={'Profit':'Profit Loss'},inplace=True)"
   ]
  },
  {
   "cell_type": "code",
   "execution_count": 118,
   "id": "0bb5049c",
   "metadata": {},
   "outputs": [
    {
     "data": {
      "text/html": [
       "<div>\n",
       "<style scoped>\n",
       "    .dataframe tbody tr th:only-of-type {\n",
       "        vertical-align: middle;\n",
       "    }\n",
       "\n",
       "    .dataframe tbody tr th {\n",
       "        vertical-align: top;\n",
       "    }\n",
       "\n",
       "    .dataframe thead th {\n",
       "        text-align: right;\n",
       "    }\n",
       "</style>\n",
       "<table border=\"1\" class=\"dataframe\">\n",
       "  <thead>\n",
       "    <tr style=\"text-align: right;\">\n",
       "      <th></th>\n",
       "      <th>Profit Loss</th>\n",
       "    </tr>\n",
       "    <tr>\n",
       "      <th>Year</th>\n",
       "      <th></th>\n",
       "    </tr>\n",
       "  </thead>\n",
       "  <tbody>\n",
       "    <tr>\n",
       "      <th>2012</th>\n",
       "      <td>17477.26</td>\n",
       "    </tr>\n",
       "    <tr>\n",
       "      <th>2013</th>\n",
       "      <td>9269.89</td>\n",
       "    </tr>\n",
       "    <tr>\n",
       "      <th>2014</th>\n",
       "      <td>17510.63</td>\n",
       "    </tr>\n",
       "    <tr>\n",
       "      <th>2015</th>\n",
       "      <td>17112.97</td>\n",
       "    </tr>\n",
       "  </tbody>\n",
       "</table>\n",
       "</div>"
      ],
      "text/plain": [
       "      Profit Loss\n",
       "Year             \n",
       "2012     17477.26\n",
       "2013      9269.89\n",
       "2014     17510.63\n",
       "2015     17112.97"
      ]
     },
     "execution_count": 118,
     "metadata": {},
     "output_type": "execute_result"
    }
   ],
   "source": [
    "returned_loss"
   ]
  },
  {
   "cell_type": "code",
   "execution_count": 119,
   "id": "8b5aa3e7",
   "metadata": {},
   "outputs": [
    {
     "data": {
      "text/plain": [
       "<AxesSubplot:title={'center':'Returns Loss by Year'}, xlabel='Year'>"
      ]
     },
     "execution_count": 119,
     "metadata": {},
     "output_type": "execute_result"
    },
    {
     "data": {
      "image/png": "[encoded data removed]",
      "text/plain": [
       "<Figure size 432x288 with 1 Axes>"
      ]
     },
     "metadata": {
      "needs_background": "light"
     },
     "output_type": "display_data"
    }
   ],
   "source": [
    "returned_loss.plot(\n",
    "    y=returned_loss.columns,\n",
    "    title='Returns Loss by Year'\n",
    ")\n",
    "\n",
    "#lowest returns loss in 2013"
   ]
  },
  {
   "cell_type": "code",
   "execution_count": 120,
   "id": "5a206caf",
   "metadata": {},
   "outputs": [
    {
     "data": {
      "text/plain": [
       "547"
      ]
     },
     "execution_count": 120,
     "metadata": {},
     "output_type": "execute_result"
    }
   ],
   "source": [
    "sum(returned_orders.groupby('Customer.ID')['Returned'].count()>1)\n",
    "\n",
    "# returned more than once: 547"
   ]
  },
  {
   "cell_type": "code",
   "execution_count": 122,
   "id": "4b345118",
   "metadata": {},
   "outputs": [
    {
     "data": {
      "text/plain": [
       "46"
      ]
     },
     "execution_count": 122,
     "metadata": {},
     "output_type": "execute_result"
    }
   ],
   "source": [
    "sum(returned_orders.groupby('Customer.ID')['Returned'].count()>5)\n",
    "\n",
    "# returned more than five times: 46"
   ]
  },
  {
   "cell_type": "code",
   "execution_count": 148,
   "id": "ca2fc4df",
   "metadata": {
    "scrolled": true
   },
   "outputs": [
    {
     "data": {
      "text/plain": [
       "Region_x\n",
       "Western Europe       121\n",
       "Central America      117\n",
       "Oceania               78\n",
       "Western US            72\n",
       "Eastern US            69\n",
       "Southeastern Asia     64\n",
       "South America         61\n",
       "Southern Asia         58\n",
       "Southern Europe       55\n",
       "Eastern Asia          53\n",
       "Western Asia          50\n",
       "Central US            44\n",
       "Southern US           44\n",
       "Northern Europe       43\n",
       "Caribbean             31\n",
       "Western Africa        29\n",
       "North Africa          26\n",
       "Eastern Europe        24\n",
       "Southern Africa       11\n",
       "Eastern Africa        11\n",
       "Central Africa        10\n",
       "Canada                 6\n",
       "Central Asia           4\n",
       "Name: Order.ID, dtype: int64"
      ]
     },
     "execution_count": 148,
     "metadata": {},
     "output_type": "execute_result"
    }
   ],
   "source": [
    "returns_region = returned_orders.groupby('Region_x')['Order.ID'].nunique()\n",
    "returns_region = returns_region.sort_values(axis=0, ascending=False, inplace=False)\n",
    "returns_region"
   ]
  },
  {
   "cell_type": "code",
   "execution_count": 149,
   "id": "8aa56b0f",
   "metadata": {
    "scrolled": true
   },
   "outputs": [
    {
     "data": {
      "text/plain": [
       "<AxesSubplot:title={'center':'Returns by Region'}, xlabel='Region_x'>"
      ]
     },
     "execution_count": 149,
     "metadata": {},
     "output_type": "execute_result"
    },
    {
     "data": {
      "image/png": "[encoded data removed]",
      "text/plain": [
       "<Figure size 432x288 with 1 Axes>"
      ]
     },
     "metadata": {
      "needs_background": "light"
     },
     "output_type": "display_data"
    }
   ],
   "source": [
    "returns_region.plot(\n",
    "    y=returns_region,\n",
    "    title='Returns by Region'\n",
    ")"
   ]
  },
  {
   "cell_type": "code",
   "execution_count": 150,
   "id": "9b6d3813",
   "metadata": {},
   "outputs": [
    {
     "data": {
      "text/plain": [
       "Category\n",
       "Office Supplies    806\n",
       "Technology         365\n",
       "Furniture          353\n",
       "Name: Order.ID, dtype: int64"
      ]
     },
     "execution_count": 150,
     "metadata": {},
     "output_type": "execute_result"
    }
   ],
   "source": [
    "returns_cat = returned_orders.groupby('Category')['Order.ID'].nunique()\n",
    "returns_cat = returns_cat.sort_values(axis=0, ascending=False, inplace=False)\n",
    "returns_cat"
   ]
  },
  {
   "cell_type": "code",
   "execution_count": 151,
   "id": "91029595",
   "metadata": {},
   "outputs": [
    {
     "data": {
      "text/plain": [
       "<AxesSubplot:title={'center':'Returns by Category'}, xlabel='Category'>"
      ]
     },
     "execution_count": 151,
     "metadata": {},
     "output_type": "execute_result"
    },
    {
     "data": {
      "image/png": "[encoded data removed]",
      "text/plain": [
       "<Figure size 432x288 with 1 Axes>"
      ]
     },
     "metadata": {
      "needs_background": "light"
     },
     "output_type": "display_data"
    }
   ],
   "source": [
    "returns_cat.plot(\n",
    "    y=returns_cat,\n",
    "    title='Returns by Category'\n",
    ")"
   ]
  },
  {
   "cell_type": "code",
   "execution_count": 147,
   "id": "38ba1076",
   "metadata": {
    "scrolled": true
   },
   "outputs": [
    {
     "data": {
      "text/plain": [
       "Sub.Category\n",
       "Binders        239\n",
       "Art            187\n",
       "Storage        186\n",
       "Phones         133\n",
       "Chairs         132\n",
       "Paper          132\n",
       "Accessories    129\n",
       "Labels         127\n",
       "Furnishings    124\n",
       "Bookcases       99\n",
       "Fasteners       98\n",
       "Supplies        96\n",
       "Copiers         94\n",
       "Envelopes       91\n",
       "Machines        59\n",
       "Appliances      59\n",
       "Tables          38\n",
       "Name: Order.ID, dtype: int64"
      ]
     },
     "execution_count": 147,
     "metadata": {},
     "output_type": "execute_result"
    }
   ],
   "source": [
    "returns_subcat = returned_orders.groupby('Sub.Category')['Order.ID'].nunique()\n",
    "returns_subcat = returns_subcat.sort_values(axis=0, ascending=False, inplace=False)\n",
    "returns_subcat"
   ]
  },
  {
   "cell_type": "code",
   "execution_count": 146,
   "id": "ed6e9acd",
   "metadata": {
    "scrolled": true
   },
   "outputs": [
    {
     "data": {
      "text/plain": [
       "<AxesSubplot:title={'center':'Returns by Sub-category'}, xlabel='Sub.Category'>"
      ]
     },
     "execution_count": 146,
     "metadata": {},
     "output_type": "execute_result"
    },
    {
     "data": {
      "image/png": "[encoded data removed]",
      "text/plain": [
       "<Figure size 432x288 with 1 Axes>"
      ]
     },
     "metadata": {
      "needs_background": "light"
     },
     "output_type": "display_data"
    }
   ],
   "source": [
    "returns_subcat.plot(\n",
    "    y=returns_subcat,\n",
    "    title='Returns by Sub-category'\n",
    ")"
   ]
  },
  {
   "cell_type": "markdown",
   "id": "a0cbd60c",
   "metadata": {},
   "source": [
    "## Part II: Machine Learning and Business Use Case\n",
    "\n",
    "Now your manager has a basic understanding of why customers returned orders. Next, he wants you to use machine learning to predict which orders are most likely to be returned. In this part, you will generate several features based on our previous findings and your manager's requirements."
   ]
  },
  {
   "cell_type": "markdown",
   "id": "d7cc0bb2",
   "metadata": {},
   "source": [
    "### Problem 4: Feature Engineering\n",
    "#### Step 1: Create the dependent variable\n",
    "- First of all, we need to generate a categorical variable which indicates whether an order has been returned or not.\n",
    "- ***Hint:*** the returned orders’ IDs are contained in the dataset “returns”\n"
   ]
  },
  {
   "cell_type": "code",
   "execution_count": 137,
   "id": "3953a17d",
   "metadata": {},
   "outputs": [],
   "source": [
    "orders['Returned'] = orders['Returned'].map(lambda x: 1 if (x=='Yes') else 0)"
   ]
  },
  {
   "cell_type": "markdown",
   "id": "3e350126",
   "metadata": {},
   "source": [
    "#### Step 2:\n",
    "- Your manager believes that **how long it took the order to ship** would affect whether the customer would return it or not. \n",
    "- He wants you to generate a feature which can measure how long it takes the company to process each order.\n",
    "- ***Hint:*** Process.Time = Ship.Date - Order.Date"
   ]
  },
  {
   "cell_type": "code",
   "execution_count": 139,
   "id": "756075b7",
   "metadata": {},
   "outputs": [],
   "source": [
    "orders['Ship.Date'] = pd.to_datetime(orders['Ship.Date'])\n",
    "orders['Order.Date'] = pd.to_datetime(orders['Order.Date'])"
   ]
  },
  {
   "cell_type": "code",
   "execution_count": 140,
   "id": "6f87549b",
   "metadata": {},
   "outputs": [],
   "source": [
    "orders['Process.Time'] = orders['Ship.Date'] - orders['Order.Date']"
   ]
  },
  {
   "cell_type": "markdown",
   "id": "68accfca",
   "metadata": {},
   "source": [
    "#### Step 3:\n",
    "\n",
    "- If a product has been returned before, it may be returned again. \n",
    "- Let us generate a feature indictes how many times the product has been returned before.\n",
    "- If it never got returned, we just impute using 0.\n",
    "- ***Hint:*** Group by different Product.ID"
   ]
  },
  {
   "cell_type": "code",
   "execution_count": null,
   "id": "5fea9b81",
   "metadata": {},
   "outputs": [],
   "source": []
  },
  {
   "cell_type": "code",
   "execution_count": null,
   "id": "4b9a14be",
   "metadata": {},
   "outputs": [],
   "source": []
  }
 ],
 "metadata": {
  "kernelspec": {
   "display_name": "Python 3 (ipykernel)",
   "language": "python",
   "name": "python3"
  },
  "language_info": {
   "codemirror_mode": {
    "name": "ipython",
    "version": 3
   },
   "file_extension": ".py",
   "mimetype": "text/x-python",
   "name": "python",
   "nbconvert_exporter": "python",
   "pygments_lexer": "ipython3",
   "version": "3.10.4"
  }
 },
 "nbformat": 4,
 "nbformat_minor": 5
}
